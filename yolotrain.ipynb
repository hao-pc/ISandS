{
  "nbformat": 4,
  "nbformat_minor": 0,
  "metadata": {
    "colab": {
      "provenance": []
    },
    "kernelspec": {
      "name": "python3",
      "display_name": "Python 3"
    },
    "language_info": {
      "name": "python"
    },
    "accelerator": "GPU",
    "gpuClass": "standard"
  },
  "cells": [
    {
      "cell_type": "markdown",
      "source": [
        "Код для работы в Google Colab"
      ],
      "metadata": {
        "id": "ivj629Px4Qoh"
      }
    },
    {
      "cell_type": "code",
      "source": [
        "import locale\n",
        "def getpreferredencoding(do_setlocale = True):\n",
        "    return \"UTF-8\"\n",
        "locale.getpreferredencoding = getpreferredencoding"
      ],
      "metadata": {
        "id": "SK6hY08qM-u-"
      },
      "execution_count": null,
      "outputs": []
    },
    {
      "cell_type": "code",
      "source": [
        "!rm -rf datasets/print"
      ],
      "metadata": {
        "id": "qDC73yleM2xH"
      },
      "execution_count": null,
      "outputs": []
    },
    {
      "cell_type": "code",
      "source": [
        "!rm -rf print/"
      ],
      "metadata": {
        "id": "vzznZh9LwHh-"
      },
      "execution_count": null,
      "outputs": []
    },
    {
      "cell_type": "code",
      "source": [
        "!unzip print.zip"
      ],
      "metadata": {
        "colab": {
          "base_uri": "https://localhost:8080/"
        },
        "id": "fLOXdPKADfRS",
        "outputId": "d3dab579-a39b-4da2-8517-198d6ed8d947",
        "collapsed": true
      },
      "execution_count": null,
      "outputs": [
        {
          "output_type": "stream",
          "name": "stdout",
          "text": [
            "Archive:  print.zip\n",
            "   creating: print/\n",
            "   creating: print/print/\n",
            "   creating: print/print/images/\n",
            "   creating: print/print/images/train/\n",
            "  inflating: print/print/images/train/birth_1.jpg  \n",
            "  inflating: print/print/images/train/birth_10.jpg  \n",
            "  inflating: print/print/images/train/birth_11.jpg  \n",
            "  inflating: print/print/images/train/birth_12.jpg  \n",
            "  inflating: print/print/images/train/birth_13.jpg  \n",
            "  inflating: print/print/images/train/birth_14.jpg  \n",
            "  inflating: print/print/images/train/birth_15.jpg  \n",
            "  inflating: print/print/images/train/birth_16.jpg  \n",
            "  inflating: print/print/images/train/birth_17.jpg  \n",
            "  inflating: print/print/images/train/birth_18.jpg  \n",
            "  inflating: print/print/images/train/birth_19.jpg  \n",
            "  inflating: print/print/images/train/birth_2.jpg  \n",
            "  inflating: print/print/images/train/birth_20.jpg  \n",
            "  inflating: print/print/images/train/birth_21.jpg  \n",
            "  inflating: print/print/images/train/birth_22.jpg  \n",
            "  inflating: print/print/images/train/birth_23.jpg  \n",
            "  inflating: print/print/images/train/birth_24.jpg  \n",
            "  inflating: print/print/images/train/birth_25.jpg  \n",
            "  inflating: print/print/images/train/birth_26.jpg  \n",
            "  inflating: print/print/images/train/birth_27.jpg  \n",
            "  inflating: print/print/images/train/birth_28.jpg  \n",
            "  inflating: print/print/images/train/birth_29.jpg  \n",
            "  inflating: print/print/images/train/birth_3.jpg  \n",
            "  inflating: print/print/images/train/birth_30.jpg  \n",
            "  inflating: print/print/images/train/birth_31.jpg  \n",
            "  inflating: print/print/images/train/birth_32.jpg  \n",
            "  inflating: print/print/images/train/birth_33.jpg  \n",
            "  inflating: print/print/images/train/birth_34.jpg  \n",
            "  inflating: print/print/images/train/birth_35.jpg  \n",
            "  inflating: print/print/images/train/birth_36.jpg  \n",
            "  inflating: print/print/images/train/birth_37.jpg  \n",
            "  inflating: print/print/images/train/birth_38.jpg  \n",
            "  inflating: print/print/images/train/birth_39.jpg  \n",
            "  inflating: print/print/images/train/birth_4.jpg  \n",
            "  inflating: print/print/images/train/birth_40.jpg  \n",
            "  inflating: print/print/images/train/birth_5.jpg  \n",
            "  inflating: print/print/images/train/birth_6.jpg  \n",
            "  inflating: print/print/images/train/birth_7.jpg  \n",
            "  inflating: print/print/images/train/birth_8.jpg  \n",
            "  inflating: print/print/images/train/birth_9.jpg  \n",
            "  inflating: print/print/images/train/divorce_1.jpg  \n",
            "  inflating: print/print/images/train/divorce_10.jpg  \n",
            "  inflating: print/print/images/train/divorce_11.jpg  \n",
            "  inflating: print/print/images/train/divorce_12.jpg  \n",
            "  inflating: print/print/images/train/divorce_13.jpg  \n",
            "  inflating: print/print/images/train/divorce_14.jpg  \n",
            "  inflating: print/print/images/train/divorce_15.jpg  \n",
            "  inflating: print/print/images/train/divorce_16.jpg  \n",
            "  inflating: print/print/images/train/divorce_17.jpg  \n",
            "  inflating: print/print/images/train/divorce_18.jpg  \n",
            "  inflating: print/print/images/train/divorce_19.jpg  \n",
            "  inflating: print/print/images/train/divorce_2.jpg  \n",
            "  inflating: print/print/images/train/divorce_20.jpg  \n",
            "  inflating: print/print/images/train/divorce_21.jpg  \n",
            "  inflating: print/print/images/train/divorce_22.jpg  \n",
            "  inflating: print/print/images/train/divorce_23.jpg  \n",
            "  inflating: print/print/images/train/divorce_24.jpg  \n",
            "  inflating: print/print/images/train/divorce_25.jpg  \n",
            "  inflating: print/print/images/train/divorce_26.jpg  \n",
            "  inflating: print/print/images/train/divorce_27.jpg  \n",
            "  inflating: print/print/images/train/divorce_28.jpg  \n",
            "  inflating: print/print/images/train/divorce_29.jpg  \n",
            "  inflating: print/print/images/train/divorce_3.jpg  \n",
            "  inflating: print/print/images/train/divorce_30.jpg  \n",
            "  inflating: print/print/images/train/divorce_31.jpg  \n",
            "  inflating: print/print/images/train/divorce_32.jpg  \n",
            "  inflating: print/print/images/train/divorce_33.jpg  \n",
            "  inflating: print/print/images/train/divorce_34.jpg  \n",
            "  inflating: print/print/images/train/divorce_35.jpg  \n",
            "  inflating: print/print/images/train/divorce_36.jpg  \n",
            "  inflating: print/print/images/train/divorce_37.jpg  \n",
            "  inflating: print/print/images/train/divorce_38.jpg  \n",
            "  inflating: print/print/images/train/divorce_39.jpg  \n",
            "  inflating: print/print/images/train/divorce_4.jpg  \n",
            "  inflating: print/print/images/train/divorce_40.jpg  \n",
            "  inflating: print/print/images/train/divorce_41.jpg  \n",
            "  inflating: print/print/images/train/divorce_42.jpg  \n",
            "  inflating: print/print/images/train/divorce_43.jpg  \n",
            "  inflating: print/print/images/train/divorce_44.jpg  \n",
            "  inflating: print/print/images/train/divorce_45.jpg  \n",
            "  inflating: print/print/images/train/divorce_46.jpg  \n",
            "  inflating: print/print/images/train/divorce_47.jpg  \n",
            "  inflating: print/print/images/train/divorce_48.jpg  \n",
            "  inflating: print/print/images/train/divorce_49.jpg  \n",
            "  inflating: print/print/images/train/divorce_5.jpg  \n",
            "  inflating: print/print/images/train/divorce_50.jpg  \n",
            "  inflating: print/print/images/train/divorce_51.jpg  \n",
            "  inflating: print/print/images/train/divorce_52.jpg  \n",
            "  inflating: print/print/images/train/divorce_53.jpg  \n",
            "  inflating: print/print/images/train/divorce_54.jpg  \n",
            "  inflating: print/print/images/train/divorce_55.jpg  \n",
            "  inflating: print/print/images/train/divorce_56.jpg  \n",
            "  inflating: print/print/images/train/divorce_57.jpg  \n",
            "  inflating: print/print/images/train/divorce_58.jpg  \n",
            "  inflating: print/print/images/train/divorce_59.jpg  \n",
            "  inflating: print/print/images/train/divorce_6.jpg  \n",
            "  inflating: print/print/images/train/divorce_60.jpg  \n",
            "  inflating: print/print/images/train/divorce_7.jpg  \n",
            "  inflating: print/print/images/train/divorce_8.jpg  \n",
            "  inflating: print/print/images/train/divorce_9.jpg  \n",
            "  inflating: print/print/images/train/inn_1.jpg  \n",
            "  inflating: print/print/images/train/inn_10.jpg  \n",
            "  inflating: print/print/images/train/inn_11.jpg  \n",
            "  inflating: print/print/images/train/inn_12.jpg  \n",
            "  inflating: print/print/images/train/inn_13.jpg  \n",
            "  inflating: print/print/images/train/inn_14.jpg  \n",
            "  inflating: print/print/images/train/inn_15.jpg  \n",
            "  inflating: print/print/images/train/inn_16.jpg  \n",
            "  inflating: print/print/images/train/inn_17.jpg  \n",
            "  inflating: print/print/images/train/inn_18.jpg  \n",
            "  inflating: print/print/images/train/inn_19.jpg  \n",
            "  inflating: print/print/images/train/inn_2.jpg  \n",
            "  inflating: print/print/images/train/inn_20.jpg  \n",
            "  inflating: print/print/images/train/inn_2004_1.jpg  \n",
            "  inflating: print/print/images/train/inn_2004_10.jpg  \n",
            "  inflating: print/print/images/train/inn_2004_11.jpg  \n",
            "  inflating: print/print/images/train/inn_2004_12.jpg  \n",
            "  inflating: print/print/images/train/inn_2004_13.jpg  \n",
            "  inflating: print/print/images/train/inn_2004_14.jpg  \n",
            "  inflating: print/print/images/train/inn_2004_15.jpg  \n",
            "  inflating: print/print/images/train/inn_2004_16.jpg  \n",
            "  inflating: print/print/images/train/inn_2004_17.jpg  \n",
            "  inflating: print/print/images/train/inn_2004_18.jpg  \n",
            "  inflating: print/print/images/train/inn_2004_19.jpg  \n",
            "  inflating: print/print/images/train/inn_2004_2.jpg  \n",
            "  inflating: print/print/images/train/inn_2004_20.jpg  \n",
            "  inflating: print/print/images/train/inn_2004_21.jpg  \n",
            "  inflating: print/print/images/train/inn_2004_22.jpg  \n",
            "  inflating: print/print/images/train/inn_2004_23.jpg  \n",
            "  inflating: print/print/images/train/inn_2004_24.jpg  \n",
            "  inflating: print/print/images/train/inn_2004_25.jpg  \n",
            "  inflating: print/print/images/train/inn_2004_26.jpg  \n",
            "  inflating: print/print/images/train/inn_2004_27.jpg  \n",
            "  inflating: print/print/images/train/inn_2004_28.jpg  \n",
            "  inflating: print/print/images/train/inn_2004_29.jpg  \n",
            "  inflating: print/print/images/train/inn_2004_2_1.jpg  \n",
            "  inflating: print/print/images/train/inn_2004_2_10.jpg  \n",
            "  inflating: print/print/images/train/inn_2004_2_11.jpg  \n",
            "  inflating: print/print/images/train/inn_2004_2_12.jpg  \n",
            "  inflating: print/print/images/train/inn_2004_2_13.jpg  \n",
            "  inflating: print/print/images/train/inn_2004_2_14.jpg  \n",
            "  inflating: print/print/images/train/inn_2004_2_15.jpg  \n",
            "  inflating: print/print/images/train/inn_2004_2_16.jpg  \n",
            "  inflating: print/print/images/train/inn_2004_2_17.jpg  \n",
            "  inflating: print/print/images/train/inn_2004_2_18.jpg  \n",
            "  inflating: print/print/images/train/inn_2004_2_19.jpg  \n",
            "  inflating: print/print/images/train/inn_2004_2_2.jpg  \n",
            "  inflating: print/print/images/train/inn_2004_2_20.jpg  \n",
            "  inflating: print/print/images/train/inn_2004_2_21.jpg  \n",
            "  inflating: print/print/images/train/inn_2004_2_22.jpg  \n",
            "  inflating: print/print/images/train/inn_2004_2_23.jpg  \n",
            "  inflating: print/print/images/train/inn_2004_2_24.jpg  \n",
            "  inflating: print/print/images/train/inn_2004_2_25.jpg  \n",
            "  inflating: print/print/images/train/inn_2004_2_26.jpg  \n",
            "  inflating: print/print/images/train/inn_2004_2_27.jpg  \n",
            "  inflating: print/print/images/train/inn_2004_2_28.jpg  \n",
            "  inflating: print/print/images/train/inn_2004_2_29.jpg  \n",
            "  inflating: print/print/images/train/inn_2004_2_3.jpg  \n",
            "  inflating: print/print/images/train/inn_2004_2_30.jpg  \n",
            "  inflating: print/print/images/train/inn_2004_2_31.jpg  \n",
            "  inflating: print/print/images/train/inn_2004_2_32.jpg  \n",
            "  inflating: print/print/images/train/inn_2004_2_33.jpg  \n",
            "  inflating: print/print/images/train/inn_2004_2_34.jpg  \n",
            "  inflating: print/print/images/train/inn_2004_2_35.jpg  \n",
            "  inflating: print/print/images/train/inn_2004_2_36.jpg  \n",
            "  inflating: print/print/images/train/inn_2004_2_37.jpg  \n",
            "  inflating: print/print/images/train/inn_2004_2_38.jpg  \n",
            "  inflating: print/print/images/train/inn_2004_2_39.jpg  \n",
            "  inflating: print/print/images/train/inn_2004_2_4.jpg  \n",
            "  inflating: print/print/images/train/inn_2004_2_40.jpg  \n",
            "  inflating: print/print/images/train/inn_2004_2_41.jpg  \n",
            "  inflating: print/print/images/train/inn_2004_2_42.jpg  \n",
            "  inflating: print/print/images/train/inn_2004_2_43.jpg  \n",
            "  inflating: print/print/images/train/inn_2004_2_44.jpg  \n",
            "  inflating: print/print/images/train/inn_2004_2_5.jpg  \n",
            "  inflating: print/print/images/train/inn_2004_2_6.jpg  \n",
            "  inflating: print/print/images/train/inn_2004_2_7.jpg  \n",
            "  inflating: print/print/images/train/inn_2004_2_8.jpg  \n",
            "  inflating: print/print/images/train/inn_2004_2_9.jpg  \n",
            "  inflating: print/print/images/train/inn_2004_3.jpg  \n",
            "  inflating: print/print/images/train/inn_2004_30.jpg  \n",
            "  inflating: print/print/images/train/inn_2004_31.jpg  \n",
            "  inflating: print/print/images/train/inn_2004_32.jpg  \n",
            "  inflating: print/print/images/train/inn_2004_33.jpg  \n",
            "  inflating: print/print/images/train/inn_2004_34.jpg  \n",
            "  inflating: print/print/images/train/inn_2004_35.jpg  \n",
            "  inflating: print/print/images/train/inn_2004_36.jpg  \n",
            "  inflating: print/print/images/train/inn_2004_37.jpg  \n",
            "  inflating: print/print/images/train/inn_2004_38.jpg  \n",
            "  inflating: print/print/images/train/inn_2004_39.jpg  \n",
            "  inflating: print/print/images/train/inn_2004_4.jpg  \n",
            "  inflating: print/print/images/train/inn_2004_40.jpg  \n",
            "  inflating: print/print/images/train/inn_2004_41.jpg  \n",
            "  inflating: print/print/images/train/inn_2004_42.jpg  \n",
            "  inflating: print/print/images/train/inn_2004_43.jpg  \n",
            "  inflating: print/print/images/train/inn_2004_44.jpg  \n",
            "  inflating: print/print/images/train/inn_2004_45.jpg  \n",
            "  inflating: print/print/images/train/inn_2004_46.jpg  \n",
            "  inflating: print/print/images/train/inn_2004_47.jpg  \n",
            "  inflating: print/print/images/train/inn_2004_48.jpg  \n",
            "  inflating: print/print/images/train/inn_2004_49.jpg  \n",
            "  inflating: print/print/images/train/inn_2004_5.jpg  \n",
            "  inflating: print/print/images/train/inn_2004_50.jpg  \n",
            "  inflating: print/print/images/train/inn_2004_6.jpg  \n",
            "  inflating: print/print/images/train/inn_2004_7.jpg  \n",
            "  inflating: print/print/images/train/inn_2004_8.jpg  \n",
            "  inflating: print/print/images/train/inn_2004_9.jpg  \n",
            "  inflating: print/print/images/train/inn_21.jpg  \n",
            "  inflating: print/print/images/train/inn_22.jpg  \n",
            "  inflating: print/print/images/train/inn_23.jpg  \n",
            "  inflating: print/print/images/train/inn_24.jpg  \n",
            "  inflating: print/print/images/train/inn_25.jpg  \n",
            "  inflating: print/print/images/train/inn_26.jpg  \n",
            "  inflating: print/print/images/train/inn_27.jpg  \n",
            "  inflating: print/print/images/train/inn_28.jpg  \n",
            "  inflating: print/print/images/train/inn_29.jpg  \n",
            "  inflating: print/print/images/train/inn_3.jpg  \n",
            "  inflating: print/print/images/train/inn_30.jpg  \n",
            "  inflating: print/print/images/train/inn_31.jpg  \n",
            "  inflating: print/print/images/train/inn_32.jpg  \n",
            "  inflating: print/print/images/train/inn_33.jpg  \n",
            "  inflating: print/print/images/train/inn_34.jpg  \n",
            "  inflating: print/print/images/train/inn_35.jpg  \n",
            "  inflating: print/print/images/train/inn_36.jpg  \n",
            "  inflating: print/print/images/train/inn_37.jpg  \n",
            "  inflating: print/print/images/train/inn_38.jpg  \n",
            "  inflating: print/print/images/train/inn_39.jpg  \n",
            "  inflating: print/print/images/train/inn_4.jpg  \n",
            "  inflating: print/print/images/train/inn_40.jpg  \n",
            "  inflating: print/print/images/train/inn_41.jpg  \n",
            "  inflating: print/print/images/train/inn_42.jpg  \n",
            "  inflating: print/print/images/train/inn_43.jpg  \n",
            "  inflating: print/print/images/train/inn_44.jpg  \n",
            "  inflating: print/print/images/train/inn_45.jpg  \n",
            "  inflating: print/print/images/train/inn_46.jpg  \n",
            "  inflating: print/print/images/train/inn_47.jpg  \n",
            "  inflating: print/print/images/train/inn_48.jpg  \n",
            "  inflating: print/print/images/train/inn_49.jpg  \n",
            "  inflating: print/print/images/train/inn_5.jpg  \n",
            "  inflating: print/print/images/train/inn_50.jpg  \n",
            "  inflating: print/print/images/train/inn_6.jpg  \n",
            "  inflating: print/print/images/train/inn_7.jpg  \n",
            "  inflating: print/print/images/train/inn_8.jpg  \n",
            "  inflating: print/print/images/train/inn_9.jpg  \n",
            "  inflating: print/print/images/train/inn_esp_1.jpg  \n",
            "  inflating: print/print/images/train/inn_esp_10.jpg  \n",
            "  inflating: print/print/images/train/inn_esp_11.jpg  \n",
            "  inflating: print/print/images/train/inn_esp_12.jpg  \n",
            "  inflating: print/print/images/train/inn_esp_13.jpg  \n",
            "  inflating: print/print/images/train/inn_esp_14.jpg  \n",
            "  inflating: print/print/images/train/inn_esp_15.jpg  \n",
            "  inflating: print/print/images/train/inn_esp_2.jpg  \n",
            "  inflating: print/print/images/train/inn_esp_2_1.jpg  \n",
            "  inflating: print/print/images/train/inn_esp_2_10.jpg  \n",
            "  inflating: print/print/images/train/inn_esp_2_11.jpg  \n",
            "  inflating: print/print/images/train/inn_esp_2_12.jpg  \n",
            "  inflating: print/print/images/train/inn_esp_2_13.jpg  \n",
            "  inflating: print/print/images/train/inn_esp_2_14.jpg  \n",
            "  inflating: print/print/images/train/inn_esp_2_15.jpg  \n",
            "  inflating: print/print/images/train/inn_esp_2_16.jpg  \n",
            "  inflating: print/print/images/train/inn_esp_2_17.jpg  \n",
            "  inflating: print/print/images/train/inn_esp_2_18.jpg  \n",
            "  inflating: print/print/images/train/inn_esp_2_19.jpg  \n",
            "  inflating: print/print/images/train/inn_esp_2_2.jpg  \n",
            "  inflating: print/print/images/train/inn_esp_2_20.jpg  \n",
            "  inflating: print/print/images/train/inn_esp_2_21.jpg  \n",
            "  inflating: print/print/images/train/inn_esp_2_22.jpg  \n",
            "  inflating: print/print/images/train/inn_esp_2_23.jpg  \n",
            "  inflating: print/print/images/train/inn_esp_2_24.jpg  \n",
            "  inflating: print/print/images/train/inn_esp_2_25.jpg  \n",
            "  inflating: print/print/images/train/inn_esp_2_26.jpg  \n",
            "  inflating: print/print/images/train/inn_esp_2_27.jpg  \n",
            "  inflating: print/print/images/train/inn_esp_2_28.jpg  \n",
            "  inflating: print/print/images/train/inn_esp_2_29.jpg  \n",
            "  inflating: print/print/images/train/inn_esp_2_3.jpg  \n",
            "  inflating: print/print/images/train/inn_esp_2_30.jpg  \n",
            "  inflating: print/print/images/train/inn_esp_2_31.jpg  \n",
            "  inflating: print/print/images/train/inn_esp_2_32.jpg  \n",
            "  inflating: print/print/images/train/inn_esp_2_33.jpg  \n",
            "  inflating: print/print/images/train/inn_esp_2_34.jpg  \n",
            "  inflating: print/print/images/train/inn_esp_2_35.jpg  \n",
            "  inflating: print/print/images/train/inn_esp_2_36.jpg  \n",
            "  inflating: print/print/images/train/inn_esp_2_37.jpg  \n",
            "  inflating: print/print/images/train/inn_esp_2_38.jpg  \n",
            "  inflating: print/print/images/train/inn_esp_2_39.jpg  \n",
            "  inflating: print/print/images/train/inn_esp_2_4.jpg  \n",
            "  inflating: print/print/images/train/inn_esp_2_40.jpg  \n",
            "  inflating: print/print/images/train/inn_esp_2_41.jpg  \n",
            "  inflating: print/print/images/train/inn_esp_2_42.jpg  \n",
            "  inflating: print/print/images/train/inn_esp_2_43.jpg  \n",
            "  inflating: print/print/images/train/inn_esp_2_44.jpg  \n",
            "  inflating: print/print/images/train/inn_esp_2_45.jpg  \n",
            "  inflating: print/print/images/train/inn_esp_2_46.jpg  \n",
            "  inflating: print/print/images/train/inn_esp_2_47.jpg  \n",
            "  inflating: print/print/images/train/inn_esp_2_48.jpg  \n",
            "  inflating: print/print/images/train/inn_esp_2_49.jpg  \n",
            "  inflating: print/print/images/train/inn_esp_2_5.jpg  \n",
            "  inflating: print/print/images/train/inn_esp_2_50.jpg  \n",
            "  inflating: print/print/images/train/inn_esp_2_6.jpg  \n",
            "  inflating: print/print/images/train/inn_esp_2_7.jpg  \n",
            "  inflating: print/print/images/train/inn_esp_2_8.jpg  \n",
            "  inflating: print/print/images/train/inn_esp_2_9.jpg  \n",
            "  inflating: print/print/images/train/inn_esp_3.jpg  \n",
            "  inflating: print/print/images/train/inn_esp_4.jpg  \n",
            "  inflating: print/print/images/train/inn_esp_5.jpg  \n",
            "  inflating: print/print/images/train/inn_esp_6.jpg  \n",
            "  inflating: print/print/images/train/inn_esp_7.jpg  \n",
            "  inflating: print/print/images/train/inn_esp_8.jpg  \n",
            "  inflating: print/print/images/train/inn_esp_9.jpg  \n",
            "  inflating: print/print/images/train/pass_1.jpg  \n",
            "  inflating: print/print/images/train/pass_10.jpg  \n",
            "  inflating: print/print/images/train/pass_11.jpg  \n",
            "  inflating: print/print/images/train/pass_12.jpg  \n",
            "  inflating: print/print/images/train/pass_13.jpg  \n",
            "  inflating: print/print/images/train/pass_14.jpg  \n",
            "  inflating: print/print/images/train/pass_15.jpg  \n",
            "  inflating: print/print/images/train/pass_16.jpg  \n",
            "  inflating: print/print/images/train/pass_17.jpg  \n",
            "  inflating: print/print/images/train/pass_18.jpg  \n",
            "  inflating: print/print/images/train/pass_19.jpg  \n",
            "  inflating: print/print/images/train/pass_2.jpg  \n",
            "  inflating: print/print/images/train/pass_20.jpg  \n",
            "  inflating: print/print/images/train/pass_21.jpg  \n",
            "  inflating: print/print/images/train/pass_22.jpg  \n",
            "  inflating: print/print/images/train/pass_23.jpg  \n",
            "  inflating: print/print/images/train/pass_24.jpg  \n",
            "  inflating: print/print/images/train/pass_25.jpg  \n",
            "  inflating: print/print/images/train/pass_26.jpg  \n",
            "  inflating: print/print/images/train/pass_27.jpg  \n",
            "  inflating: print/print/images/train/pass_28.jpg  \n",
            "  inflating: print/print/images/train/pass_29.jpg  \n",
            "  inflating: print/print/images/train/pass_3.jpg  \n",
            "  inflating: print/print/images/train/pass_30.jpg  \n",
            "  inflating: print/print/images/train/pass_31.jpg  \n",
            "  inflating: print/print/images/train/pass_32.jpg  \n",
            "  inflating: print/print/images/train/pass_33.jpg  \n",
            "  inflating: print/print/images/train/pass_34.jpg  \n",
            "  inflating: print/print/images/train/pass_35.jpg  \n",
            "  inflating: print/print/images/train/pass_4.jpg  \n",
            "  inflating: print/print/images/train/pass_5.jpg  \n",
            "  inflating: print/print/images/train/pass_6.jpg  \n",
            "  inflating: print/print/images/train/pass_7.jpg  \n",
            "  inflating: print/print/images/train/pass_8.jpg  \n",
            "  inflating: print/print/images/train/pass_9.jpg  \n",
            "   creating: print/print/images/val/\n",
            "  inflating: print/print/images/val/birth_41.jpg  \n",
            "  inflating: print/print/images/val/birth_42.jpg  \n",
            "  inflating: print/print/images/val/birth_43.jpg  \n",
            "  inflating: print/print/images/val/birth_44.jpg  \n",
            "  inflating: print/print/images/val/birth_45.jpg  \n",
            "  inflating: print/print/images/val/birth_46.jpg  \n",
            "  inflating: print/print/images/val/birth_47.jpg  \n",
            "  inflating: print/print/images/val/birth_48.jpg  \n",
            "  inflating: print/print/images/val/birth_49.jpg  \n",
            "  inflating: print/print/images/val/birth_50.jpg  \n",
            "  inflating: print/print/images/val/divorce_61.jpg  \n",
            "  inflating: print/print/images/val/divorce_62.jpg  \n",
            "  inflating: print/print/images/val/divorce_63.jpg  \n",
            "  inflating: print/print/images/val/divorce_64.jpg  \n",
            "  inflating: print/print/images/val/divorce_65.jpg  \n",
            "  inflating: print/print/images/val/divorce_66.jpg  \n",
            "  inflating: print/print/images/val/divorce_67.jpg  \n",
            "  inflating: print/print/images/val/divorce_68.jpg  \n",
            "  inflating: print/print/images/val/divorce_69.jpg  \n",
            "  inflating: print/print/images/val/divorce_70.jpg  \n",
            "  inflating: print/print/images/val/inn_2004_2_45.jpg  \n",
            "  inflating: print/print/images/val/inn_2004_2_46.jpg  \n",
            "  inflating: print/print/images/val/inn_2004_2_47.jpg  \n",
            "  inflating: print/print/images/val/inn_2004_2_48.jpg  \n",
            "  inflating: print/print/images/val/inn_2004_2_49.jpg  \n",
            "  inflating: print/print/images/val/inn_2004_2_50.jpg  \n",
            "  inflating: print/print/images/val/inn_2004_2_51.jpg  \n",
            "  inflating: print/print/images/val/inn_2004_2_52.jpg  \n",
            "  inflating: print/print/images/val/inn_2004_2_53.jpg  \n",
            "  inflating: print/print/images/val/inn_2004_2_54.jpg  \n",
            "  inflating: print/print/images/val/inn_2004_2_55.jpg  \n",
            "  inflating: print/print/images/val/inn_2004_49.jpg  \n",
            "  inflating: print/print/images/val/inn_2004_50.jpg  \n",
            "  inflating: print/print/images/val/inn_2004_51.jpg  \n",
            "  inflating: print/print/images/val/inn_2004_52.jpg  \n",
            "  inflating: print/print/images/val/inn_2004_53.jpg  \n",
            "  inflating: print/print/images/val/inn_2004_54.jpg  \n",
            "  inflating: print/print/images/val/inn_2004_55.jpg  \n",
            "  inflating: print/print/images/val/inn_2004_56.jpg  \n",
            "  inflating: print/print/images/val/inn_2004_57.jpg  \n",
            "  inflating: print/print/images/val/inn_2004_58.jpg  \n",
            "  inflating: print/print/images/val/inn_2004_59.jpg  \n",
            "  inflating: print/print/images/val/inn_2004_60.jpg  \n",
            "  inflating: print/print/images/val/inn_51.jpg  \n",
            "  inflating: print/print/images/val/inn_52.jpg  \n",
            "  inflating: print/print/images/val/inn_53.jpg  \n",
            "  inflating: print/print/images/val/inn_54.jpg  \n",
            "  inflating: print/print/images/val/inn_55.jpg  \n",
            "  inflating: print/print/images/val/inn_56.jpg  \n",
            "  inflating: print/print/images/val/inn_57.jpg  \n",
            "  inflating: print/print/images/val/inn_58.jpg  \n",
            "  inflating: print/print/images/val/inn_59.jpg  \n",
            "  inflating: print/print/images/val/inn_60.jpg  \n",
            "  inflating: print/print/images/val/inn_61.jpg  \n",
            "  inflating: print/print/images/val/inn_62.jpg  \n",
            "  inflating: print/print/images/val/inn_63.jpg  \n",
            "  inflating: print/print/images/val/inn_64.jpg  \n",
            "  inflating: print/print/images/val/inn_65.jpg  \n",
            "  inflating: print/print/images/val/inn_66.jpg  \n",
            "  inflating: print/print/images/val/inn_67.jpg  \n",
            "  inflating: print/print/images/val/inn_68.jpg  \n",
            "  inflating: print/print/images/val/inn_69.jpg  \n",
            "  inflating: print/print/images/val/inn_70.jpg  \n",
            "  inflating: print/print/images/val/inn_esp_16.jpg  \n",
            "  inflating: print/print/images/val/inn_esp_17.jpg  \n",
            "  inflating: print/print/images/val/inn_esp_18.jpg  \n",
            "  inflating: print/print/images/val/inn_esp_19.jpg  \n",
            "  inflating: print/print/images/val/inn_esp_20.jpg  \n",
            "  inflating: print/print/images/val/inn_esp_2_51.jpg  \n",
            "  inflating: print/print/images/val/inn_esp_2_52.jpg  \n",
            "  inflating: print/print/images/val/inn_esp_2_53.jpg  \n",
            "  inflating: print/print/images/val/inn_esp_2_54.jpg  \n",
            "  inflating: print/print/images/val/inn_esp_2_55.jpg  \n",
            "  inflating: print/print/images/val/inn_esp_2_56.jpg  \n",
            "  inflating: print/print/images/val/inn_esp_2_57.jpg  \n",
            "  inflating: print/print/images/val/inn_esp_2_58.jpg  \n",
            "  inflating: print/print/images/val/inn_esp_2_59.jpg  \n",
            "  inflating: print/print/images/val/inn_esp_2_60.jpg  \n",
            "  inflating: print/print/images/val/inn_esp_2_61.jpg  \n",
            "  inflating: print/print/images/val/inn_esp_2_62.jpg  \n",
            "  inflating: print/print/images/val/inn_esp_2_63.jpg  \n",
            "  inflating: print/print/images/val/inn_esp_2_64.jpg  \n",
            "  inflating: print/print/images/val/pass_36.jpg  \n",
            "  inflating: print/print/images/val/pass_37.jpg  \n",
            "  inflating: print/print/images/val/pass_38.jpg  \n",
            "  inflating: print/print/images/val/pass_39.jpg  \n",
            "  inflating: print/print/images/val/pass_40.jpg  \n",
            "  inflating: print/print/images/val/pass_41.jpg  \n",
            "  inflating: print/print/images/val/pass_42.jpg  \n",
            "  inflating: print/print/images/val/pass_43.jpg  \n",
            "  inflating: print/print/images/val/pass_44.jpg  \n",
            "  inflating: print/print/images/val/pass_45.jpg  \n",
            "  inflating: print/print/images/val/pass_46.jpg  \n",
            "  inflating: print/print/images/val/pass_47.jpg  \n",
            "  inflating: print/print/images/val/pass_48.jpg  \n",
            "  inflating: print/print/images/val/pass_49.jpg  \n",
            "  inflating: print/print/images/val/pass_50.jpg  \n",
            "   creating: print/print/labels/\n",
            "   creating: print/print/labels/train/\n",
            "  inflating: print/print/labels/train/birth_1.txt  \n",
            "  inflating: print/print/labels/train/birth_10.txt  \n",
            "  inflating: print/print/labels/train/birth_11.txt  \n",
            "  inflating: print/print/labels/train/birth_12.txt  \n",
            "  inflating: print/print/labels/train/birth_13.txt  \n",
            "  inflating: print/print/labels/train/birth_14.txt  \n",
            "  inflating: print/print/labels/train/birth_15.txt  \n",
            "  inflating: print/print/labels/train/birth_16.txt  \n",
            "  inflating: print/print/labels/train/birth_17.txt  \n",
            "  inflating: print/print/labels/train/birth_18.txt  \n",
            "  inflating: print/print/labels/train/birth_19.txt  \n",
            "  inflating: print/print/labels/train/birth_2.txt  \n",
            "  inflating: print/print/labels/train/birth_20.txt  \n",
            "  inflating: print/print/labels/train/birth_21.txt  \n",
            "  inflating: print/print/labels/train/birth_22.txt  \n",
            "  inflating: print/print/labels/train/birth_23.txt  \n",
            "  inflating: print/print/labels/train/birth_24.txt  \n",
            "  inflating: print/print/labels/train/birth_25.txt  \n",
            "  inflating: print/print/labels/train/birth_26.txt  \n",
            "  inflating: print/print/labels/train/birth_27.txt  \n",
            "  inflating: print/print/labels/train/birth_28.txt  \n",
            "  inflating: print/print/labels/train/birth_29.txt  \n",
            "  inflating: print/print/labels/train/birth_3.txt  \n",
            "  inflating: print/print/labels/train/birth_30.txt  \n",
            "  inflating: print/print/labels/train/birth_31.txt  \n",
            "  inflating: print/print/labels/train/birth_32.txt  \n",
            "  inflating: print/print/labels/train/birth_33.txt  \n",
            "  inflating: print/print/labels/train/birth_34.txt  \n",
            "  inflating: print/print/labels/train/birth_35.txt  \n",
            "  inflating: print/print/labels/train/birth_36.txt  \n",
            "  inflating: print/print/labels/train/birth_37.txt  \n",
            "  inflating: print/print/labels/train/birth_38.txt  \n",
            "  inflating: print/print/labels/train/birth_39.txt  \n",
            "  inflating: print/print/labels/train/birth_4.txt  \n",
            "  inflating: print/print/labels/train/birth_40.txt  \n",
            "  inflating: print/print/labels/train/birth_5.txt  \n",
            "  inflating: print/print/labels/train/birth_6.txt  \n",
            "  inflating: print/print/labels/train/birth_7.txt  \n",
            "  inflating: print/print/labels/train/birth_8.txt  \n",
            "  inflating: print/print/labels/train/birth_9.txt  \n",
            "  inflating: print/print/labels/train/classes.txt  \n",
            "  inflating: print/print/labels/train/divorce_1.txt  \n",
            "  inflating: print/print/labels/train/divorce_10.txt  \n",
            "  inflating: print/print/labels/train/divorce_11.txt  \n",
            "  inflating: print/print/labels/train/divorce_12.txt  \n",
            "  inflating: print/print/labels/train/divorce_13.txt  \n",
            "  inflating: print/print/labels/train/divorce_14.txt  \n",
            "  inflating: print/print/labels/train/divorce_15.txt  \n",
            "  inflating: print/print/labels/train/divorce_16.txt  \n",
            "  inflating: print/print/labels/train/divorce_17.txt  \n",
            "  inflating: print/print/labels/train/divorce_18.txt  \n",
            "  inflating: print/print/labels/train/divorce_19.txt  \n",
            "  inflating: print/print/labels/train/divorce_2.txt  \n",
            "  inflating: print/print/labels/train/divorce_20.txt  \n",
            "  inflating: print/print/labels/train/divorce_21.txt  \n",
            "  inflating: print/print/labels/train/divorce_22.txt  \n",
            "  inflating: print/print/labels/train/divorce_23.txt  \n",
            "  inflating: print/print/labels/train/divorce_24.txt  \n",
            "  inflating: print/print/labels/train/divorce_25.txt  \n",
            "  inflating: print/print/labels/train/divorce_26.txt  \n",
            "  inflating: print/print/labels/train/divorce_27.txt  \n",
            "  inflating: print/print/labels/train/divorce_28.txt  \n",
            "  inflating: print/print/labels/train/divorce_29.txt  \n",
            "  inflating: print/print/labels/train/divorce_3.txt  \n",
            "  inflating: print/print/labels/train/divorce_30.txt  \n",
            "  inflating: print/print/labels/train/divorce_31.txt  \n",
            "  inflating: print/print/labels/train/divorce_32.txt  \n",
            "  inflating: print/print/labels/train/divorce_33.txt  \n",
            "  inflating: print/print/labels/train/divorce_34.txt  \n",
            "  inflating: print/print/labels/train/divorce_35.txt  \n",
            "  inflating: print/print/labels/train/divorce_36.txt  \n",
            "  inflating: print/print/labels/train/divorce_37.txt  \n",
            "  inflating: print/print/labels/train/divorce_38.txt  \n",
            "  inflating: print/print/labels/train/divorce_39.txt  \n",
            "  inflating: print/print/labels/train/divorce_4.txt  \n",
            "  inflating: print/print/labels/train/divorce_40.txt  \n",
            "  inflating: print/print/labels/train/divorce_41.txt  \n",
            "  inflating: print/print/labels/train/divorce_42.txt  \n",
            "  inflating: print/print/labels/train/divorce_43.txt  \n",
            "  inflating: print/print/labels/train/divorce_44.txt  \n",
            "  inflating: print/print/labels/train/divorce_45.txt  \n",
            "  inflating: print/print/labels/train/divorce_46.txt  \n",
            "  inflating: print/print/labels/train/divorce_47.txt  \n",
            "  inflating: print/print/labels/train/divorce_48.txt  \n",
            "  inflating: print/print/labels/train/divorce_49.txt  \n",
            "  inflating: print/print/labels/train/divorce_5.txt  \n",
            "  inflating: print/print/labels/train/divorce_50.txt  \n",
            "  inflating: print/print/labels/train/divorce_51.txt  \n",
            "  inflating: print/print/labels/train/divorce_52.txt  \n",
            "  inflating: print/print/labels/train/divorce_53.txt  \n",
            "  inflating: print/print/labels/train/divorce_54.txt  \n",
            "  inflating: print/print/labels/train/divorce_55.txt  \n",
            "  inflating: print/print/labels/train/divorce_56.txt  \n",
            "  inflating: print/print/labels/train/divorce_57.txt  \n",
            "  inflating: print/print/labels/train/divorce_58.txt  \n",
            "  inflating: print/print/labels/train/divorce_59.txt  \n",
            "  inflating: print/print/labels/train/divorce_6.txt  \n",
            "  inflating: print/print/labels/train/divorce_60.txt  \n",
            "  inflating: print/print/labels/train/divorce_7.txt  \n",
            "  inflating: print/print/labels/train/divorce_8.txt  \n",
            "  inflating: print/print/labels/train/divorce_9.txt  \n",
            "  inflating: print/print/labels/train/inn_1.txt  \n",
            "  inflating: print/print/labels/train/inn_10.txt  \n",
            "  inflating: print/print/labels/train/inn_11.txt  \n",
            "  inflating: print/print/labels/train/inn_12.txt  \n",
            "  inflating: print/print/labels/train/inn_13.txt  \n",
            "  inflating: print/print/labels/train/inn_14.txt  \n",
            "  inflating: print/print/labels/train/inn_15.txt  \n",
            "  inflating: print/print/labels/train/inn_16.txt  \n",
            "  inflating: print/print/labels/train/inn_17.txt  \n",
            "  inflating: print/print/labels/train/inn_18.txt  \n",
            "  inflating: print/print/labels/train/inn_19.txt  \n",
            "  inflating: print/print/labels/train/inn_2.txt  \n",
            "  inflating: print/print/labels/train/inn_20.txt  \n",
            "  inflating: print/print/labels/train/inn_2004_1.txt  \n",
            "  inflating: print/print/labels/train/inn_2004_10.txt  \n",
            "  inflating: print/print/labels/train/inn_2004_11.txt  \n",
            "  inflating: print/print/labels/train/inn_2004_12.txt  \n",
            "  inflating: print/print/labels/train/inn_2004_13.txt  \n",
            "  inflating: print/print/labels/train/inn_2004_14.txt  \n",
            "  inflating: print/print/labels/train/inn_2004_15.txt  \n",
            "  inflating: print/print/labels/train/inn_2004_16.txt  \n",
            "  inflating: print/print/labels/train/inn_2004_17.txt  \n",
            "  inflating: print/print/labels/train/inn_2004_18.txt  \n",
            "  inflating: print/print/labels/train/inn_2004_19.txt  \n",
            "  inflating: print/print/labels/train/inn_2004_2.txt  \n",
            "  inflating: print/print/labels/train/inn_2004_20.txt  \n",
            "  inflating: print/print/labels/train/inn_2004_21.txt  \n",
            "  inflating: print/print/labels/train/inn_2004_22.txt  \n",
            "  inflating: print/print/labels/train/inn_2004_23.txt  \n",
            "  inflating: print/print/labels/train/inn_2004_24.txt  \n",
            "  inflating: print/print/labels/train/inn_2004_25.txt  \n",
            "  inflating: print/print/labels/train/inn_2004_26.txt  \n",
            "  inflating: print/print/labels/train/inn_2004_27.txt  \n",
            "  inflating: print/print/labels/train/inn_2004_28.txt  \n",
            "  inflating: print/print/labels/train/inn_2004_29.txt  \n",
            "  inflating: print/print/labels/train/inn_2004_2_1.txt  \n",
            "  inflating: print/print/labels/train/inn_2004_2_10.txt  \n",
            "  inflating: print/print/labels/train/inn_2004_2_11.txt  \n",
            "  inflating: print/print/labels/train/inn_2004_2_12.txt  \n",
            "  inflating: print/print/labels/train/inn_2004_2_13.txt  \n",
            "  inflating: print/print/labels/train/inn_2004_2_14.txt  \n",
            "  inflating: print/print/labels/train/inn_2004_2_15.txt  \n",
            "  inflating: print/print/labels/train/inn_2004_2_16.txt  \n",
            "  inflating: print/print/labels/train/inn_2004_2_17.txt  \n",
            "  inflating: print/print/labels/train/inn_2004_2_18.txt  \n",
            "  inflating: print/print/labels/train/inn_2004_2_19.txt  \n",
            "  inflating: print/print/labels/train/inn_2004_2_2.txt  \n",
            "  inflating: print/print/labels/train/inn_2004_2_20.txt  \n",
            "  inflating: print/print/labels/train/inn_2004_2_21.txt  \n",
            "  inflating: print/print/labels/train/inn_2004_2_22.txt  \n",
            "  inflating: print/print/labels/train/inn_2004_2_23.txt  \n",
            "  inflating: print/print/labels/train/inn_2004_2_24.txt  \n",
            "  inflating: print/print/labels/train/inn_2004_2_25.txt  \n",
            "  inflating: print/print/labels/train/inn_2004_2_26.txt  \n",
            "  inflating: print/print/labels/train/inn_2004_2_27.txt  \n",
            "  inflating: print/print/labels/train/inn_2004_2_28.txt  \n",
            "  inflating: print/print/labels/train/inn_2004_2_29.txt  \n",
            "  inflating: print/print/labels/train/inn_2004_2_3.txt  \n",
            "  inflating: print/print/labels/train/inn_2004_2_30.txt  \n",
            "  inflating: print/print/labels/train/inn_2004_2_31.txt  \n",
            "  inflating: print/print/labels/train/inn_2004_2_32.txt  \n",
            "  inflating: print/print/labels/train/inn_2004_2_33.txt  \n",
            "  inflating: print/print/labels/train/inn_2004_2_34.txt  \n",
            "  inflating: print/print/labels/train/inn_2004_2_35.txt  \n",
            "  inflating: print/print/labels/train/inn_2004_2_36.txt  \n",
            "  inflating: print/print/labels/train/inn_2004_2_37.txt  \n",
            "  inflating: print/print/labels/train/inn_2004_2_38.txt  \n",
            "  inflating: print/print/labels/train/inn_2004_2_39.txt  \n",
            "  inflating: print/print/labels/train/inn_2004_2_4.txt  \n",
            "  inflating: print/print/labels/train/inn_2004_2_40.txt  \n",
            "  inflating: print/print/labels/train/inn_2004_2_41.txt  \n",
            "  inflating: print/print/labels/train/inn_2004_2_42.txt  \n",
            "  inflating: print/print/labels/train/inn_2004_2_43.txt  \n",
            "  inflating: print/print/labels/train/inn_2004_2_44.txt  \n",
            "  inflating: print/print/labels/train/inn_2004_2_5.txt  \n",
            "  inflating: print/print/labels/train/inn_2004_2_6.txt  \n",
            "  inflating: print/print/labels/train/inn_2004_2_7.txt  \n",
            "  inflating: print/print/labels/train/inn_2004_2_8.txt  \n",
            "  inflating: print/print/labels/train/inn_2004_2_9.txt  \n",
            "  inflating: print/print/labels/train/inn_2004_3.txt  \n",
            "  inflating: print/print/labels/train/inn_2004_30.txt  \n",
            "  inflating: print/print/labels/train/inn_2004_31.txt  \n",
            "  inflating: print/print/labels/train/inn_2004_32.txt  \n",
            "  inflating: print/print/labels/train/inn_2004_33.txt  \n",
            "  inflating: print/print/labels/train/inn_2004_34.txt  \n",
            "  inflating: print/print/labels/train/inn_2004_35.txt  \n",
            "  inflating: print/print/labels/train/inn_2004_36.txt  \n",
            "  inflating: print/print/labels/train/inn_2004_37.txt  \n",
            "  inflating: print/print/labels/train/inn_2004_38.txt  \n",
            "  inflating: print/print/labels/train/inn_2004_39.txt  \n",
            "  inflating: print/print/labels/train/inn_2004_4.txt  \n",
            "  inflating: print/print/labels/train/inn_2004_40.txt  \n",
            "  inflating: print/print/labels/train/inn_2004_41.txt  \n",
            "  inflating: print/print/labels/train/inn_2004_42.txt  \n",
            "  inflating: print/print/labels/train/inn_2004_43.txt  \n",
            "  inflating: print/print/labels/train/inn_2004_44.txt  \n",
            "  inflating: print/print/labels/train/inn_2004_45.txt  \n",
            "  inflating: print/print/labels/train/inn_2004_46.txt  \n",
            "  inflating: print/print/labels/train/inn_2004_47.txt  \n",
            "  inflating: print/print/labels/train/inn_2004_48.txt  \n",
            "  inflating: print/print/labels/train/inn_2004_49.txt  \n",
            "  inflating: print/print/labels/train/inn_2004_5.txt  \n",
            "  inflating: print/print/labels/train/inn_2004_50.txt  \n",
            "  inflating: print/print/labels/train/inn_2004_6.txt  \n",
            "  inflating: print/print/labels/train/inn_2004_7.txt  \n",
            "  inflating: print/print/labels/train/inn_2004_8.txt  \n",
            "  inflating: print/print/labels/train/inn_2004_9.txt  \n",
            "  inflating: print/print/labels/train/inn_21.txt  \n",
            "  inflating: print/print/labels/train/inn_22.txt  \n",
            "  inflating: print/print/labels/train/inn_23.txt  \n",
            "  inflating: print/print/labels/train/inn_24.txt  \n",
            "  inflating: print/print/labels/train/inn_25.txt  \n",
            "  inflating: print/print/labels/train/inn_26.txt  \n",
            "  inflating: print/print/labels/train/inn_27.txt  \n",
            "  inflating: print/print/labels/train/inn_28.txt  \n",
            "  inflating: print/print/labels/train/inn_29.txt  \n",
            "  inflating: print/print/labels/train/inn_3.txt  \n",
            "  inflating: print/print/labels/train/inn_30.txt  \n",
            "  inflating: print/print/labels/train/inn_31.txt  \n",
            "  inflating: print/print/labels/train/inn_32.txt  \n",
            "  inflating: print/print/labels/train/inn_33.txt  \n",
            "  inflating: print/print/labels/train/inn_34.txt  \n",
            "  inflating: print/print/labels/train/inn_35.txt  \n",
            "  inflating: print/print/labels/train/inn_36.txt  \n",
            "  inflating: print/print/labels/train/inn_37.txt  \n",
            "  inflating: print/print/labels/train/inn_38.txt  \n",
            "  inflating: print/print/labels/train/inn_39.txt  \n",
            "  inflating: print/print/labels/train/inn_4.txt  \n",
            "  inflating: print/print/labels/train/inn_40.txt  \n",
            "  inflating: print/print/labels/train/inn_41.txt  \n",
            "  inflating: print/print/labels/train/inn_42.txt  \n",
            "  inflating: print/print/labels/train/inn_43.txt  \n",
            "  inflating: print/print/labels/train/inn_44.txt  \n",
            "  inflating: print/print/labels/train/inn_45.txt  \n",
            "  inflating: print/print/labels/train/inn_46.txt  \n",
            "  inflating: print/print/labels/train/inn_47.txt  \n",
            "  inflating: print/print/labels/train/inn_48.txt  \n",
            "  inflating: print/print/labels/train/inn_49.txt  \n",
            "  inflating: print/print/labels/train/inn_5.txt  \n",
            "  inflating: print/print/labels/train/inn_50.txt  \n",
            "  inflating: print/print/labels/train/inn_6.txt  \n",
            "  inflating: print/print/labels/train/inn_7.txt  \n",
            "  inflating: print/print/labels/train/inn_8.txt  \n",
            "  inflating: print/print/labels/train/inn_9.txt  \n",
            "  inflating: print/print/labels/train/inn_esp_1.txt  \n",
            "  inflating: print/print/labels/train/inn_esp_10.txt  \n",
            "  inflating: print/print/labels/train/inn_esp_11.txt  \n",
            "  inflating: print/print/labels/train/inn_esp_12.txt  \n",
            "  inflating: print/print/labels/train/inn_esp_13.txt  \n",
            "  inflating: print/print/labels/train/inn_esp_14.txt  \n",
            "  inflating: print/print/labels/train/inn_esp_15.txt  \n",
            "  inflating: print/print/labels/train/inn_esp_2.txt  \n",
            "  inflating: print/print/labels/train/inn_esp_2_1.txt  \n",
            "  inflating: print/print/labels/train/inn_esp_2_10.txt  \n",
            "  inflating: print/print/labels/train/inn_esp_2_11.txt  \n",
            "  inflating: print/print/labels/train/inn_esp_2_12.txt  \n",
            "  inflating: print/print/labels/train/inn_esp_2_13.txt  \n",
            "  inflating: print/print/labels/train/inn_esp_2_14.txt  \n",
            "  inflating: print/print/labels/train/inn_esp_2_15.txt  \n",
            "  inflating: print/print/labels/train/inn_esp_2_16.txt  \n",
            "  inflating: print/print/labels/train/inn_esp_2_17.txt  \n",
            "  inflating: print/print/labels/train/inn_esp_2_18.txt  \n",
            "  inflating: print/print/labels/train/inn_esp_2_19.txt  \n",
            "  inflating: print/print/labels/train/inn_esp_2_2.txt  \n",
            "  inflating: print/print/labels/train/inn_esp_2_20.txt  \n",
            "  inflating: print/print/labels/train/inn_esp_2_21.txt  \n",
            "  inflating: print/print/labels/train/inn_esp_2_22.txt  \n",
            "  inflating: print/print/labels/train/inn_esp_2_23.txt  \n",
            "  inflating: print/print/labels/train/inn_esp_2_24.txt  \n",
            "  inflating: print/print/labels/train/inn_esp_2_25.txt  \n",
            "  inflating: print/print/labels/train/inn_esp_2_26.txt  \n",
            "  inflating: print/print/labels/train/inn_esp_2_27.txt  \n",
            "  inflating: print/print/labels/train/inn_esp_2_28.txt  \n",
            "  inflating: print/print/labels/train/inn_esp_2_29.txt  \n",
            "  inflating: print/print/labels/train/inn_esp_2_3.txt  \n",
            "  inflating: print/print/labels/train/inn_esp_2_30.txt  \n",
            "  inflating: print/print/labels/train/inn_esp_2_31.txt  \n",
            "  inflating: print/print/labels/train/inn_esp_2_32.txt  \n",
            "  inflating: print/print/labels/train/inn_esp_2_33.txt  \n",
            "  inflating: print/print/labels/train/inn_esp_2_34.txt  \n",
            "  inflating: print/print/labels/train/inn_esp_2_35.txt  \n",
            "  inflating: print/print/labels/train/inn_esp_2_36.txt  \n",
            "  inflating: print/print/labels/train/inn_esp_2_37.txt  \n",
            "  inflating: print/print/labels/train/inn_esp_2_38.txt  \n",
            "  inflating: print/print/labels/train/inn_esp_2_39.txt  \n",
            "  inflating: print/print/labels/train/inn_esp_2_4.txt  \n",
            "  inflating: print/print/labels/train/inn_esp_2_40.txt  \n",
            "  inflating: print/print/labels/train/inn_esp_2_41.txt  \n",
            "  inflating: print/print/labels/train/inn_esp_2_42.txt  \n",
            "  inflating: print/print/labels/train/inn_esp_2_43.txt  \n",
            "  inflating: print/print/labels/train/inn_esp_2_44.txt  \n",
            "  inflating: print/print/labels/train/inn_esp_2_45.txt  \n",
            "  inflating: print/print/labels/train/inn_esp_2_46.txt  \n",
            "  inflating: print/print/labels/train/inn_esp_2_47.txt  \n",
            "  inflating: print/print/labels/train/inn_esp_2_48.txt  \n",
            "  inflating: print/print/labels/train/inn_esp_2_49.txt  \n",
            "  inflating: print/print/labels/train/inn_esp_2_5.txt  \n",
            "  inflating: print/print/labels/train/inn_esp_2_50.txt  \n",
            "  inflating: print/print/labels/train/inn_esp_2_6.txt  \n",
            "  inflating: print/print/labels/train/inn_esp_2_7.txt  \n",
            "  inflating: print/print/labels/train/inn_esp_2_8.txt  \n",
            "  inflating: print/print/labels/train/inn_esp_2_9.txt  \n",
            "  inflating: print/print/labels/train/inn_esp_3.txt  \n",
            "  inflating: print/print/labels/train/inn_esp_4.txt  \n",
            "  inflating: print/print/labels/train/inn_esp_5.txt  \n",
            "  inflating: print/print/labels/train/inn_esp_6.txt  \n",
            "  inflating: print/print/labels/train/inn_esp_7.txt  \n",
            "  inflating: print/print/labels/train/inn_esp_8.txt  \n",
            "  inflating: print/print/labels/train/inn_esp_9.txt  \n",
            "  inflating: print/print/labels/train/pass_1.txt  \n",
            "  inflating: print/print/labels/train/pass_10.txt  \n",
            "  inflating: print/print/labels/train/pass_11.txt  \n",
            "  inflating: print/print/labels/train/pass_12.txt  \n",
            "  inflating: print/print/labels/train/pass_13.txt  \n",
            "  inflating: print/print/labels/train/pass_14.txt  \n",
            "  inflating: print/print/labels/train/pass_15.txt  \n",
            "  inflating: print/print/labels/train/pass_16.txt  \n",
            "  inflating: print/print/labels/train/pass_17.txt  \n",
            "  inflating: print/print/labels/train/pass_18.txt  \n",
            "  inflating: print/print/labels/train/pass_19.txt  \n",
            "  inflating: print/print/labels/train/pass_2.txt  \n",
            "  inflating: print/print/labels/train/pass_20.txt  \n",
            "  inflating: print/print/labels/train/pass_21.txt  \n",
            "  inflating: print/print/labels/train/pass_22.txt  \n",
            "  inflating: print/print/labels/train/pass_23.txt  \n",
            "  inflating: print/print/labels/train/pass_24.txt  \n",
            "  inflating: print/print/labels/train/pass_25.txt  \n",
            "  inflating: print/print/labels/train/pass_26.txt  \n",
            "  inflating: print/print/labels/train/pass_27.txt  \n",
            "  inflating: print/print/labels/train/pass_28.txt  \n",
            "  inflating: print/print/labels/train/pass_29.txt  \n",
            "  inflating: print/print/labels/train/pass_3.txt  \n",
            "  inflating: print/print/labels/train/pass_30.txt  \n",
            "  inflating: print/print/labels/train/pass_31.txt  \n",
            "  inflating: print/print/labels/train/pass_32.txt  \n",
            "  inflating: print/print/labels/train/pass_33.txt  \n",
            "  inflating: print/print/labels/train/pass_34.txt  \n",
            "  inflating: print/print/labels/train/pass_35.txt  \n",
            "  inflating: print/print/labels/train/pass_4.txt  \n",
            "  inflating: print/print/labels/train/pass_5.txt  \n",
            "  inflating: print/print/labels/train/pass_6.txt  \n",
            "  inflating: print/print/labels/train/pass_7.txt  \n",
            "  inflating: print/print/labels/train/pass_8.txt  \n",
            "  inflating: print/print/labels/train/pass_9.txt  \n",
            "   creating: print/print/labels/val/\n",
            "  inflating: print/print/labels/val/birth_41.txt  \n",
            "  inflating: print/print/labels/val/birth_42.txt  \n",
            "  inflating: print/print/labels/val/birth_43.txt  \n",
            "  inflating: print/print/labels/val/birth_44.txt  \n",
            "  inflating: print/print/labels/val/birth_45.txt  \n",
            "  inflating: print/print/labels/val/birth_46.txt  \n",
            "  inflating: print/print/labels/val/birth_47.txt  \n",
            "  inflating: print/print/labels/val/birth_48.txt  \n",
            "  inflating: print/print/labels/val/birth_49.txt  \n",
            "  inflating: print/print/labels/val/birth_50.txt  \n",
            "  inflating: print/print/labels/val/classes.txt  \n",
            "  inflating: print/print/labels/val/divorce_61.txt  \n",
            "  inflating: print/print/labels/val/divorce_62.txt  \n",
            "  inflating: print/print/labels/val/divorce_63.txt  \n",
            "  inflating: print/print/labels/val/divorce_64.txt  \n",
            "  inflating: print/print/labels/val/divorce_65.txt  \n",
            "  inflating: print/print/labels/val/divorce_66.txt  \n",
            "  inflating: print/print/labels/val/divorce_67.txt  \n",
            "  inflating: print/print/labels/val/divorce_68.txt  \n",
            "  inflating: print/print/labels/val/divorce_69.txt  \n",
            "  inflating: print/print/labels/val/divorce_70.txt  \n",
            "  inflating: print/print/labels/val/inn_2004_2_45.txt  \n",
            "  inflating: print/print/labels/val/inn_2004_2_46.txt  \n",
            "  inflating: print/print/labels/val/inn_2004_2_47.txt  \n",
            "  inflating: print/print/labels/val/inn_2004_2_48.txt  \n",
            "  inflating: print/print/labels/val/inn_2004_2_49.txt  \n",
            "  inflating: print/print/labels/val/inn_2004_2_50.txt  \n",
            "  inflating: print/print/labels/val/inn_2004_2_51.txt  \n",
            "  inflating: print/print/labels/val/inn_2004_2_52.txt  \n",
            "  inflating: print/print/labels/val/inn_2004_2_53.txt  \n",
            "  inflating: print/print/labels/val/inn_2004_2_54.txt  \n",
            "  inflating: print/print/labels/val/inn_2004_2_55.txt  \n",
            "  inflating: print/print/labels/val/inn_2004_49.txt  \n",
            "  inflating: print/print/labels/val/inn_2004_50.txt  \n",
            "  inflating: print/print/labels/val/inn_2004_51.txt  \n",
            "  inflating: print/print/labels/val/inn_2004_52.txt  \n",
            "  inflating: print/print/labels/val/inn_2004_53.txt  \n",
            "  inflating: print/print/labels/val/inn_2004_54.txt  \n",
            "  inflating: print/print/labels/val/inn_2004_55.txt  \n",
            "  inflating: print/print/labels/val/inn_2004_56.txt  \n",
            "  inflating: print/print/labels/val/inn_2004_57.txt  \n",
            "  inflating: print/print/labels/val/inn_2004_58.txt  \n",
            "  inflating: print/print/labels/val/inn_2004_59.txt  \n",
            "  inflating: print/print/labels/val/inn_2004_60.txt  \n",
            "  inflating: print/print/labels/val/inn_51.txt  \n",
            "  inflating: print/print/labels/val/inn_52.txt  \n",
            "  inflating: print/print/labels/val/inn_53.txt  \n",
            "  inflating: print/print/labels/val/inn_54.txt  \n",
            "  inflating: print/print/labels/val/inn_55.txt  \n",
            "  inflating: print/print/labels/val/inn_56.txt  \n",
            "  inflating: print/print/labels/val/inn_57.txt  \n",
            "  inflating: print/print/labels/val/inn_58.txt  \n",
            "  inflating: print/print/labels/val/inn_59.txt  \n",
            "  inflating: print/print/labels/val/inn_60.txt  \n",
            "  inflating: print/print/labels/val/inn_61.txt  \n",
            "  inflating: print/print/labels/val/inn_62.txt  \n",
            "  inflating: print/print/labels/val/inn_63.txt  \n",
            "  inflating: print/print/labels/val/inn_64.txt  \n",
            "  inflating: print/print/labels/val/inn_65.txt  \n",
            "  inflating: print/print/labels/val/inn_66.txt  \n",
            "  inflating: print/print/labels/val/inn_67.txt  \n",
            "  inflating: print/print/labels/val/inn_68.txt  \n",
            "  inflating: print/print/labels/val/inn_69.txt  \n",
            "  inflating: print/print/labels/val/inn_70.txt  \n",
            "  inflating: print/print/labels/val/inn_esp_16.txt  \n",
            "  inflating: print/print/labels/val/inn_esp_17.txt  \n",
            "  inflating: print/print/labels/val/inn_esp_18.txt  \n",
            "  inflating: print/print/labels/val/inn_esp_19.txt  \n",
            "  inflating: print/print/labels/val/inn_esp_20.txt  \n",
            "  inflating: print/print/labels/val/inn_esp_2_51.txt  \n",
            "  inflating: print/print/labels/val/inn_esp_2_52.txt  \n",
            "  inflating: print/print/labels/val/inn_esp_2_53.txt  \n",
            "  inflating: print/print/labels/val/inn_esp_2_54.txt  \n",
            "  inflating: print/print/labels/val/inn_esp_2_55.txt  \n",
            "  inflating: print/print/labels/val/inn_esp_2_56.txt  \n",
            "  inflating: print/print/labels/val/inn_esp_2_57.txt  \n",
            "  inflating: print/print/labels/val/inn_esp_2_58.txt  \n",
            "  inflating: print/print/labels/val/inn_esp_2_59.txt  \n",
            "  inflating: print/print/labels/val/inn_esp_2_60.txt  \n",
            "  inflating: print/print/labels/val/inn_esp_2_61.txt  \n",
            "  inflating: print/print/labels/val/inn_esp_2_62.txt  \n",
            "  inflating: print/print/labels/val/inn_esp_2_63.txt  \n",
            "  inflating: print/print/labels/val/inn_esp_2_64.txt  \n",
            "  inflating: print/print/labels/val/pass_36.txt  \n",
            "  inflating: print/print/labels/val/pass_37.txt  \n",
            "  inflating: print/print/labels/val/pass_38.txt  \n",
            "  inflating: print/print/labels/val/pass_39.txt  \n",
            "  inflating: print/print/labels/val/pass_40.txt  \n",
            "  inflating: print/print/labels/val/pass_41.txt  \n",
            "  inflating: print/print/labels/val/pass_42.txt  \n",
            "  inflating: print/print/labels/val/pass_43.txt  \n",
            "  inflating: print/print/labels/val/pass_44.txt  \n",
            "  inflating: print/print/labels/val/pass_45.txt  \n",
            "  inflating: print/print/labels/val/pass_46.txt  \n",
            "  inflating: print/print/labels/val/pass_47.txt  \n",
            "  inflating: print/print/labels/val/pass_48.txt  \n",
            "  inflating: print/print/labels/val/pass_49.txt  \n",
            "  inflating: print/print/labels/val/pass_50.txt  \n"
          ]
        }
      ]
    },
    {
      "cell_type": "code",
      "source": [
        "!pip install ultralytics"
      ],
      "metadata": {
        "id": "i8yghpa4eEjd",
        "colab": {
          "base_uri": "https://localhost:8080/"
        },
        "outputId": "b1819ce7-204b-4d34-a48f-65e4a288543a"
      },
      "execution_count": null,
      "outputs": [
        {
          "output_type": "stream",
          "name": "stdout",
          "text": [
            "Requirement already satisfied: ultralytics in /usr/local/lib/python3.11/dist-packages (8.3.92)\n",
            "Requirement already satisfied: numpy<=2.1.1,>=1.23.0 in /usr/local/lib/python3.11/dist-packages (from ultralytics) (2.0.2)\n",
            "Requirement already satisfied: matplotlib>=3.3.0 in /usr/local/lib/python3.11/dist-packages (from ultralytics) (3.10.0)\n",
            "Requirement already satisfied: opencv-python>=4.6.0 in /usr/local/lib/python3.11/dist-packages (from ultralytics) (4.11.0.86)\n",
            "Requirement already satisfied: pillow>=7.1.2 in /usr/local/lib/python3.11/dist-packages (from ultralytics) (11.1.0)\n",
            "Requirement already satisfied: pyyaml>=5.3.1 in /usr/local/lib/python3.11/dist-packages (from ultralytics) (6.0.2)\n",
            "Requirement already satisfied: requests>=2.23.0 in /usr/local/lib/python3.11/dist-packages (from ultralytics) (2.32.3)\n",
            "Requirement already satisfied: scipy>=1.4.1 in /usr/local/lib/python3.11/dist-packages (from ultralytics) (1.14.1)\n",
            "Requirement already satisfied: torch>=1.8.0 in /usr/local/lib/python3.11/dist-packages (from ultralytics) (2.6.0+cu124)\n",
            "Requirement already satisfied: torchvision>=0.9.0 in /usr/local/lib/python3.11/dist-packages (from ultralytics) (0.21.0+cu124)\n",
            "Requirement already satisfied: tqdm>=4.64.0 in /usr/local/lib/python3.11/dist-packages (from ultralytics) (4.67.1)\n",
            "Requirement already satisfied: psutil in /usr/local/lib/python3.11/dist-packages (from ultralytics) (5.9.5)\n",
            "Requirement already satisfied: py-cpuinfo in /usr/local/lib/python3.11/dist-packages (from ultralytics) (9.0.0)\n",
            "Requirement already satisfied: pandas>=1.1.4 in /usr/local/lib/python3.11/dist-packages (from ultralytics) (2.2.2)\n",
            "Requirement already satisfied: seaborn>=0.11.0 in /usr/local/lib/python3.11/dist-packages (from ultralytics) (0.13.2)\n",
            "Requirement already satisfied: ultralytics-thop>=2.0.0 in /usr/local/lib/python3.11/dist-packages (from ultralytics) (2.0.14)\n",
            "Requirement already satisfied: contourpy>=1.0.1 in /usr/local/lib/python3.11/dist-packages (from matplotlib>=3.3.0->ultralytics) (1.3.1)\n",
            "Requirement already satisfied: cycler>=0.10 in /usr/local/lib/python3.11/dist-packages (from matplotlib>=3.3.0->ultralytics) (0.12.1)\n",
            "Requirement already satisfied: fonttools>=4.22.0 in /usr/local/lib/python3.11/dist-packages (from matplotlib>=3.3.0->ultralytics) (4.56.0)\n",
            "Requirement already satisfied: kiwisolver>=1.3.1 in /usr/local/lib/python3.11/dist-packages (from matplotlib>=3.3.0->ultralytics) (1.4.8)\n",
            "Requirement already satisfied: packaging>=20.0 in /usr/local/lib/python3.11/dist-packages (from matplotlib>=3.3.0->ultralytics) (24.2)\n",
            "Requirement already satisfied: pyparsing>=2.3.1 in /usr/local/lib/python3.11/dist-packages (from matplotlib>=3.3.0->ultralytics) (3.2.1)\n",
            "Requirement already satisfied: python-dateutil>=2.7 in /usr/local/lib/python3.11/dist-packages (from matplotlib>=3.3.0->ultralytics) (2.8.2)\n",
            "Requirement already satisfied: pytz>=2020.1 in /usr/local/lib/python3.11/dist-packages (from pandas>=1.1.4->ultralytics) (2025.1)\n",
            "Requirement already satisfied: tzdata>=2022.7 in /usr/local/lib/python3.11/dist-packages (from pandas>=1.1.4->ultralytics) (2025.1)\n",
            "Requirement already satisfied: charset-normalizer<4,>=2 in /usr/local/lib/python3.11/dist-packages (from requests>=2.23.0->ultralytics) (3.4.1)\n",
            "Requirement already satisfied: idna<4,>=2.5 in /usr/local/lib/python3.11/dist-packages (from requests>=2.23.0->ultralytics) (3.10)\n",
            "Requirement already satisfied: urllib3<3,>=1.21.1 in /usr/local/lib/python3.11/dist-packages (from requests>=2.23.0->ultralytics) (2.3.0)\n",
            "Requirement already satisfied: certifi>=2017.4.17 in /usr/local/lib/python3.11/dist-packages (from requests>=2.23.0->ultralytics) (2025.1.31)\n",
            "Requirement already satisfied: filelock in /usr/local/lib/python3.11/dist-packages (from torch>=1.8.0->ultralytics) (3.17.0)\n",
            "Requirement already satisfied: typing-extensions>=4.10.0 in /usr/local/lib/python3.11/dist-packages (from torch>=1.8.0->ultralytics) (4.12.2)\n",
            "Requirement already satisfied: networkx in /usr/local/lib/python3.11/dist-packages (from torch>=1.8.0->ultralytics) (3.4.2)\n",
            "Requirement already satisfied: jinja2 in /usr/local/lib/python3.11/dist-packages (from torch>=1.8.0->ultralytics) (3.1.6)\n",
            "Requirement already satisfied: fsspec in /usr/local/lib/python3.11/dist-packages (from torch>=1.8.0->ultralytics) (2024.10.0)\n",
            "Requirement already satisfied: nvidia-cuda-nvrtc-cu12==12.4.127 in /usr/local/lib/python3.11/dist-packages (from torch>=1.8.0->ultralytics) (12.4.127)\n",
            "Requirement already satisfied: nvidia-cuda-runtime-cu12==12.4.127 in /usr/local/lib/python3.11/dist-packages (from torch>=1.8.0->ultralytics) (12.4.127)\n",
            "Requirement already satisfied: nvidia-cuda-cupti-cu12==12.4.127 in /usr/local/lib/python3.11/dist-packages (from torch>=1.8.0->ultralytics) (12.4.127)\n",
            "Requirement already satisfied: nvidia-cudnn-cu12==9.1.0.70 in /usr/local/lib/python3.11/dist-packages (from torch>=1.8.0->ultralytics) (9.1.0.70)\n",
            "Requirement already satisfied: nvidia-cublas-cu12==12.4.5.8 in /usr/local/lib/python3.11/dist-packages (from torch>=1.8.0->ultralytics) (12.4.5.8)\n",
            "Requirement already satisfied: nvidia-cufft-cu12==11.2.1.3 in /usr/local/lib/python3.11/dist-packages (from torch>=1.8.0->ultralytics) (11.2.1.3)\n",
            "Requirement already satisfied: nvidia-curand-cu12==10.3.5.147 in /usr/local/lib/python3.11/dist-packages (from torch>=1.8.0->ultralytics) (10.3.5.147)\n",
            "Requirement already satisfied: nvidia-cusolver-cu12==11.6.1.9 in /usr/local/lib/python3.11/dist-packages (from torch>=1.8.0->ultralytics) (11.6.1.9)\n",
            "Requirement already satisfied: nvidia-cusparse-cu12==12.3.1.170 in /usr/local/lib/python3.11/dist-packages (from torch>=1.8.0->ultralytics) (12.3.1.170)\n",
            "Requirement already satisfied: nvidia-cusparselt-cu12==0.6.2 in /usr/local/lib/python3.11/dist-packages (from torch>=1.8.0->ultralytics) (0.6.2)\n",
            "Requirement already satisfied: nvidia-nccl-cu12==2.21.5 in /usr/local/lib/python3.11/dist-packages (from torch>=1.8.0->ultralytics) (2.21.5)\n",
            "Requirement already satisfied: nvidia-nvtx-cu12==12.4.127 in /usr/local/lib/python3.11/dist-packages (from torch>=1.8.0->ultralytics) (12.4.127)\n",
            "Requirement already satisfied: nvidia-nvjitlink-cu12==12.4.127 in /usr/local/lib/python3.11/dist-packages (from torch>=1.8.0->ultralytics) (12.4.127)\n",
            "Requirement already satisfied: triton==3.2.0 in /usr/local/lib/python3.11/dist-packages (from torch>=1.8.0->ultralytics) (3.2.0)\n",
            "Requirement already satisfied: sympy==1.13.1 in /usr/local/lib/python3.11/dist-packages (from torch>=1.8.0->ultralytics) (1.13.1)\n",
            "Requirement already satisfied: mpmath<1.4,>=1.1.0 in /usr/local/lib/python3.11/dist-packages (from sympy==1.13.1->torch>=1.8.0->ultralytics) (1.3.0)\n",
            "Requirement already satisfied: six>=1.5 in /usr/local/lib/python3.11/dist-packages (from python-dateutil>=2.7->matplotlib>=3.3.0->ultralytics) (1.17.0)\n",
            "Requirement already satisfied: MarkupSafe>=2.0 in /usr/local/lib/python3.11/dist-packages (from jinja2->torch>=1.8.0->ultralytics) (3.0.2)\n"
          ]
        }
      ]
    },
    {
      "cell_type": "markdown",
      "source": [
        "Код для обучения, пример google_colab_config.yaml в репозитории"
      ],
      "metadata": {
        "id": "HA1cL7c14a5y"
      }
    },
    {
      "cell_type": "code",
      "source": [
        "import os\n",
        "\n",
        "from ultralytics import YOLO\n",
        "\n",
        "\n",
        "# Load a model\n",
        "model = YOLO(\"yolo11n.pt\")  # build a new model from scratch\n",
        "\n",
        "# Use the model\n",
        "results = model.train(data='google_colab_config.yaml', epochs=100)  # train the model\n"
      ],
      "metadata": {
        "id": "oyZJX6PVfE7J",
        "colab": {
          "base_uri": "https://localhost:8080/"
        },
        "outputId": "9d3f763d-9e7a-4b15-8e1c-9d63424aff01"
      },
      "execution_count": null,
      "outputs": [
        {
          "output_type": "stream",
          "name": "stdout",
          "text": [
            "Ultralytics 8.3.92 🚀 Python-3.11.11 torch-2.6.0+cu124 CUDA:0 (Tesla T4, 15095MiB)\n",
            "\u001b[34m\u001b[1mengine/trainer: \u001b[0mtask=detect, mode=train, model=yolo11n.pt, data=google_colab_config.yaml, epochs=100, time=None, patience=100, batch=16, imgsz=640, save=True, save_period=-1, cache=False, device=None, workers=8, project=None, name=train3, exist_ok=False, pretrained=True, optimizer=auto, verbose=True, seed=0, deterministic=True, single_cls=False, rect=False, cos_lr=False, close_mosaic=10, resume=False, amp=True, fraction=1.0, profile=False, freeze=None, multi_scale=False, overlap_mask=True, mask_ratio=4, dropout=0.0, val=True, split=val, save_json=False, save_hybrid=False, conf=None, iou=0.7, max_det=300, half=False, dnn=False, plots=True, source=None, vid_stride=1, stream_buffer=False, visualize=False, augment=False, agnostic_nms=False, classes=None, retina_masks=False, embed=None, show=False, save_frames=False, save_txt=False, save_conf=False, save_crop=False, show_labels=True, show_conf=True, show_boxes=True, line_width=None, format=torchscript, keras=False, optimize=False, int8=False, dynamic=False, simplify=True, opset=None, workspace=None, nms=False, lr0=0.01, lrf=0.01, momentum=0.937, weight_decay=0.0005, warmup_epochs=3.0, warmup_momentum=0.8, warmup_bias_lr=0.1, box=7.5, cls=0.5, dfl=1.5, pose=12.0, kobj=1.0, nbs=64, hsv_h=0.015, hsv_s=0.7, hsv_v=0.4, degrees=0.0, translate=0.1, scale=0.5, shear=0.0, perspective=0.0, flipud=0.0, fliplr=0.5, bgr=0.0, mosaic=1.0, mixup=0.0, copy_paste=0.0, copy_paste_mode=flip, auto_augment=randaugment, erasing=0.4, crop_fraction=1.0, cfg=None, tracker=botsort.yaml, save_dir=runs/detect/train3\n",
            "Downloading https://ultralytics.com/assets/Arial.ttf to '/root/.config/Ultralytics/Arial.ttf'...\n"
          ]
        },
        {
          "output_type": "stream",
          "name": "stderr",
          "text": [
            "100%|██████████| 755k/755k [00:00<00:00, 18.0MB/s]\n"
          ]
        },
        {
          "output_type": "stream",
          "name": "stdout",
          "text": [
            "Overriding model.yaml nc=80 with nc=3\n",
            "\n",
            "                   from  n    params  module                                       arguments                     \n",
            "  0                  -1  1       464  ultralytics.nn.modules.conv.Conv             [3, 16, 3, 2]                 \n",
            "  1                  -1  1      4672  ultralytics.nn.modules.conv.Conv             [16, 32, 3, 2]                \n",
            "  2                  -1  1      6640  ultralytics.nn.modules.block.C3k2            [32, 64, 1, False, 0.25]      \n",
            "  3                  -1  1     36992  ultralytics.nn.modules.conv.Conv             [64, 64, 3, 2]                \n",
            "  4                  -1  1     26080  ultralytics.nn.modules.block.C3k2            [64, 128, 1, False, 0.25]     \n",
            "  5                  -1  1    147712  ultralytics.nn.modules.conv.Conv             [128, 128, 3, 2]              \n",
            "  6                  -1  1     87040  ultralytics.nn.modules.block.C3k2            [128, 128, 1, True]           \n",
            "  7                  -1  1    295424  ultralytics.nn.modules.conv.Conv             [128, 256, 3, 2]              \n",
            "  8                  -1  1    346112  ultralytics.nn.modules.block.C3k2            [256, 256, 1, True]           \n",
            "  9                  -1  1    164608  ultralytics.nn.modules.block.SPPF            [256, 256, 5]                 \n",
            " 10                  -1  1    249728  ultralytics.nn.modules.block.C2PSA           [256, 256, 1]                 \n",
            " 11                  -1  1         0  torch.nn.modules.upsampling.Upsample         [None, 2, 'nearest']          \n",
            " 12             [-1, 6]  1         0  ultralytics.nn.modules.conv.Concat           [1]                           \n",
            " 13                  -1  1    111296  ultralytics.nn.modules.block.C3k2            [384, 128, 1, False]          \n",
            " 14                  -1  1         0  torch.nn.modules.upsampling.Upsample         [None, 2, 'nearest']          \n",
            " 15             [-1, 4]  1         0  ultralytics.nn.modules.conv.Concat           [1]                           \n",
            " 16                  -1  1     32096  ultralytics.nn.modules.block.C3k2            [256, 64, 1, False]           \n",
            " 17                  -1  1     36992  ultralytics.nn.modules.conv.Conv             [64, 64, 3, 2]                \n",
            " 18            [-1, 13]  1         0  ultralytics.nn.modules.conv.Concat           [1]                           \n",
            " 19                  -1  1     86720  ultralytics.nn.modules.block.C3k2            [192, 128, 1, False]          \n",
            " 20                  -1  1    147712  ultralytics.nn.modules.conv.Conv             [128, 128, 3, 2]              \n",
            " 21            [-1, 10]  1         0  ultralytics.nn.modules.conv.Concat           [1]                           \n",
            " 22                  -1  1    378880  ultralytics.nn.modules.block.C3k2            [384, 256, 1, True]           \n",
            " 23        [16, 19, 22]  1    431257  ultralytics.nn.modules.head.Detect           [3, [64, 128, 256]]           \n",
            "YOLO11n summary: 181 layers, 2,590,425 parameters, 2,590,409 gradients, 6.4 GFLOPs\n",
            "\n",
            "Transferred 448/499 items from pretrained weights\n",
            "\u001b[34m\u001b[1mTensorBoard: \u001b[0mStart with 'tensorboard --logdir runs/detect/train3', view at http://localhost:6006/\n",
            "Freezing layer 'model.23.dfl.conv.weight'\n",
            "\u001b[34m\u001b[1mAMP: \u001b[0mrunning Automatic Mixed Precision (AMP) checks...\n",
            "\u001b[34m\u001b[1mAMP: \u001b[0mchecks passed ✅\n"
          ]
        },
        {
          "output_type": "stream",
          "name": "stderr",
          "text": [
            "\u001b[34m\u001b[1mtrain: \u001b[0mScanning /content/datasets/print/labels/train... 344 images, 0 backgrounds, 0 corrupt: 100%|██████████| 344/344 [00:00<00:00, 2581.06it/s]"
          ]
        },
        {
          "output_type": "stream",
          "name": "stdout",
          "text": [
            "\u001b[34m\u001b[1mtrain: \u001b[0mNew cache created: /content/datasets/print/labels/train.cache\n"
          ]
        },
        {
          "output_type": "stream",
          "name": "stderr",
          "text": [
            "\n"
          ]
        },
        {
          "output_type": "stream",
          "name": "stdout",
          "text": [
            "\u001b[34m\u001b[1malbumentations: \u001b[0mBlur(p=0.01, blur_limit=(3, 7)), MedianBlur(p=0.01, blur_limit=(3, 7)), ToGray(p=0.01, num_output_channels=3, method='weighted_average'), CLAHE(p=0.01, clip_limit=(1.0, 4.0), tile_grid_size=(8, 8))\n"
          ]
        },
        {
          "output_type": "stream",
          "name": "stderr",
          "text": [
            "\u001b[34m\u001b[1mval: \u001b[0mScanning /content/datasets/print/labels/val... 97 images, 0 backgrounds, 0 corrupt: 100%|██████████| 97/97 [00:00<00:00, 1854.11it/s]"
          ]
        },
        {
          "output_type": "stream",
          "name": "stdout",
          "text": [
            "\u001b[34m\u001b[1mval: \u001b[0mNew cache created: /content/datasets/print/labels/val.cache\n"
          ]
        },
        {
          "output_type": "stream",
          "name": "stderr",
          "text": [
            "\n"
          ]
        },
        {
          "output_type": "stream",
          "name": "stdout",
          "text": [
            "Plotting labels to runs/detect/train3/labels.jpg... \n",
            "\u001b[34m\u001b[1moptimizer:\u001b[0m 'optimizer=auto' found, ignoring 'lr0=0.01' and 'momentum=0.937' and determining best 'optimizer', 'lr0' and 'momentum' automatically... \n",
            "\u001b[34m\u001b[1moptimizer:\u001b[0m AdamW(lr=0.001429, momentum=0.9) with parameter groups 81 weight(decay=0.0), 88 weight(decay=0.0005), 87 bias(decay=0.0)\n",
            "\u001b[34m\u001b[1mTensorBoard: \u001b[0mmodel graph visualization added ✅\n",
            "Image sizes 640 train, 640 val\n",
            "Using 2 dataloader workers\n",
            "Logging results to \u001b[1mruns/detect/train3\u001b[0m\n",
            "Starting training for 100 epochs...\n",
            "\n",
            "      Epoch    GPU_mem   box_loss   cls_loss   dfl_loss  Instances       Size\n"
          ]
        },
        {
          "output_type": "stream",
          "name": "stderr",
          "text": [
            "      1/100      2.32G      1.136      3.062      1.168         40        640: 100%|██████████| 22/22 [00:11<00:00,  1.95it/s]\n",
            "                 Class     Images  Instances      Box(P          R      mAP50  mAP50-95): 100%|██████████| 4/4 [00:03<00:00,  1.32it/s]"
          ]
        },
        {
          "output_type": "stream",
          "name": "stdout",
          "text": [
            "                   all         97        208      0.007      0.976      0.782      0.581\n"
          ]
        },
        {
          "output_type": "stream",
          "name": "stderr",
          "text": [
            "\n"
          ]
        },
        {
          "output_type": "stream",
          "name": "stdout",
          "text": [
            "\n",
            "      Epoch    GPU_mem   box_loss   cls_loss   dfl_loss  Instances       Size\n"
          ]
        },
        {
          "output_type": "stream",
          "name": "stderr",
          "text": [
            "      2/100      2.72G     0.9862      1.532      1.056         22        640: 100%|██████████| 22/22 [00:06<00:00,  3.23it/s]\n",
            "                 Class     Images  Instances      Box(P          R      mAP50  mAP50-95): 100%|██████████| 4/4 [00:02<00:00,  1.87it/s]\n"
          ]
        },
        {
          "output_type": "stream",
          "name": "stdout",
          "text": [
            "                   all         97        208    0.00691      0.986      0.626      0.453\n",
            "\n",
            "      Epoch    GPU_mem   box_loss   cls_loss   dfl_loss  Instances       Size\n"
          ]
        },
        {
          "output_type": "stream",
          "name": "stderr",
          "text": [
            "      3/100      2.74G     0.8961      1.231      1.038         37        640: 100%|██████████| 22/22 [00:06<00:00,  3.26it/s]\n",
            "                 Class     Images  Instances      Box(P          R      mAP50  mAP50-95): 100%|██████████| 4/4 [00:01<00:00,  3.29it/s]"
          ]
        },
        {
          "output_type": "stream",
          "name": "stdout",
          "text": [
            "                   all         97        208          1      0.268      0.965      0.754\n"
          ]
        },
        {
          "output_type": "stream",
          "name": "stderr",
          "text": [
            "\n"
          ]
        },
        {
          "output_type": "stream",
          "name": "stdout",
          "text": [
            "\n",
            "      Epoch    GPU_mem   box_loss   cls_loss   dfl_loss  Instances       Size\n"
          ]
        },
        {
          "output_type": "stream",
          "name": "stderr",
          "text": [
            "      4/100      2.76G      0.851      1.101      1.004         33        640: 100%|██████████| 22/22 [00:07<00:00,  2.84it/s]\n",
            "                 Class     Images  Instances      Box(P          R      mAP50  mAP50-95): 100%|██████████| 4/4 [00:01<00:00,  2.96it/s]"
          ]
        },
        {
          "output_type": "stream",
          "name": "stdout",
          "text": [
            "                   all         97        208      0.937      0.637      0.928      0.734\n"
          ]
        },
        {
          "output_type": "stream",
          "name": "stderr",
          "text": [
            "\n"
          ]
        },
        {
          "output_type": "stream",
          "name": "stdout",
          "text": [
            "\n",
            "      Epoch    GPU_mem   box_loss   cls_loss   dfl_loss  Instances       Size\n"
          ]
        },
        {
          "output_type": "stream",
          "name": "stderr",
          "text": [
            "      5/100      2.77G     0.8152      1.023     0.9924         17        640: 100%|██████████| 22/22 [00:07<00:00,  3.09it/s]\n",
            "                 Class     Images  Instances      Box(P          R      mAP50  mAP50-95): 100%|██████████| 4/4 [00:01<00:00,  2.35it/s]"
          ]
        },
        {
          "output_type": "stream",
          "name": "stdout",
          "text": [
            "                   all         97        208      0.953      0.829      0.928      0.736\n"
          ]
        },
        {
          "output_type": "stream",
          "name": "stderr",
          "text": [
            "\n"
          ]
        },
        {
          "output_type": "stream",
          "name": "stdout",
          "text": [
            "\n",
            "      Epoch    GPU_mem   box_loss   cls_loss   dfl_loss  Instances       Size\n"
          ]
        },
        {
          "output_type": "stream",
          "name": "stderr",
          "text": [
            "      6/100      2.79G     0.8146     0.9634     0.9755         31        640: 100%|██████████| 22/22 [00:07<00:00,  3.14it/s]\n",
            "                 Class     Images  Instances      Box(P          R      mAP50  mAP50-95): 100%|██████████| 4/4 [00:01<00:00,  3.07it/s]"
          ]
        },
        {
          "output_type": "stream",
          "name": "stdout",
          "text": [
            "                   all         97        208      0.983      0.989      0.989      0.749\n"
          ]
        },
        {
          "output_type": "stream",
          "name": "stderr",
          "text": [
            "\n"
          ]
        },
        {
          "output_type": "stream",
          "name": "stdout",
          "text": [
            "\n",
            "      Epoch    GPU_mem   box_loss   cls_loss   dfl_loss  Instances       Size\n"
          ]
        },
        {
          "output_type": "stream",
          "name": "stderr",
          "text": [
            "      7/100       2.8G     0.7855     0.9017     0.9718         29        640: 100%|██████████| 22/22 [00:07<00:00,  3.01it/s]\n",
            "                 Class     Images  Instances      Box(P          R      mAP50  mAP50-95): 100%|██████████| 4/4 [00:01<00:00,  3.03it/s]"
          ]
        },
        {
          "output_type": "stream",
          "name": "stdout",
          "text": [
            "                   all         97        208       0.97       0.99       0.99      0.778\n"
          ]
        },
        {
          "output_type": "stream",
          "name": "stderr",
          "text": [
            "\n"
          ]
        },
        {
          "output_type": "stream",
          "name": "stdout",
          "text": [
            "\n",
            "      Epoch    GPU_mem   box_loss   cls_loss   dfl_loss  Instances       Size\n"
          ]
        },
        {
          "output_type": "stream",
          "name": "stderr",
          "text": [
            "      8/100      2.81G     0.7617     0.8293     0.9573         45        640: 100%|██████████| 22/22 [00:07<00:00,  2.96it/s]\n",
            "                 Class     Images  Instances      Box(P          R      mAP50  mAP50-95): 100%|██████████| 4/4 [00:01<00:00,  3.13it/s]"
          ]
        },
        {
          "output_type": "stream",
          "name": "stdout",
          "text": [
            "                   all         97        208      0.983      0.997      0.995      0.744\n"
          ]
        },
        {
          "output_type": "stream",
          "name": "stderr",
          "text": [
            "\n"
          ]
        },
        {
          "output_type": "stream",
          "name": "stdout",
          "text": [
            "\n",
            "      Epoch    GPU_mem   box_loss   cls_loss   dfl_loss  Instances       Size\n"
          ]
        },
        {
          "output_type": "stream",
          "name": "stderr",
          "text": [
            "      9/100      2.83G     0.7151     0.8018     0.9402         18        640: 100%|██████████| 22/22 [00:06<00:00,  3.48it/s]\n",
            "                 Class     Images  Instances      Box(P          R      mAP50  mAP50-95): 100%|██████████| 4/4 [00:02<00:00,  1.79it/s]"
          ]
        },
        {
          "output_type": "stream",
          "name": "stdout",
          "text": [
            "                   all         97        208      0.956      0.936      0.972       0.79\n"
          ]
        },
        {
          "output_type": "stream",
          "name": "stderr",
          "text": [
            "\n"
          ]
        },
        {
          "output_type": "stream",
          "name": "stdout",
          "text": [
            "\n",
            "      Epoch    GPU_mem   box_loss   cls_loss   dfl_loss  Instances       Size\n"
          ]
        },
        {
          "output_type": "stream",
          "name": "stderr",
          "text": [
            "     10/100      2.84G     0.7081     0.7611     0.9381         22        640: 100%|██████████| 22/22 [00:06<00:00,  3.21it/s]\n",
            "                 Class     Images  Instances      Box(P          R      mAP50  mAP50-95): 100%|██████████| 4/4 [00:01<00:00,  3.54it/s]"
          ]
        },
        {
          "output_type": "stream",
          "name": "stdout",
          "text": [
            "                   all         97        208      0.925      0.955      0.965      0.726\n"
          ]
        },
        {
          "output_type": "stream",
          "name": "stderr",
          "text": [
            "\n"
          ]
        },
        {
          "output_type": "stream",
          "name": "stdout",
          "text": [
            "\n",
            "      Epoch    GPU_mem   box_loss   cls_loss   dfl_loss  Instances       Size\n"
          ]
        },
        {
          "output_type": "stream",
          "name": "stderr",
          "text": [
            "     11/100      2.86G      0.679     0.7051     0.9155         25        640: 100%|██████████| 22/22 [00:07<00:00,  2.94it/s]\n",
            "                 Class     Images  Instances      Box(P          R      mAP50  mAP50-95): 100%|██████████| 4/4 [00:01<00:00,  3.03it/s]"
          ]
        },
        {
          "output_type": "stream",
          "name": "stdout",
          "text": [
            "                   all         97        208      0.962      0.966      0.962      0.771\n"
          ]
        },
        {
          "output_type": "stream",
          "name": "stderr",
          "text": [
            "\n"
          ]
        },
        {
          "output_type": "stream",
          "name": "stdout",
          "text": [
            "\n",
            "      Epoch    GPU_mem   box_loss   cls_loss   dfl_loss  Instances       Size\n"
          ]
        },
        {
          "output_type": "stream",
          "name": "stderr",
          "text": [
            "     12/100      2.87G     0.6805     0.6939     0.9313         23        640: 100%|██████████| 22/22 [00:07<00:00,  3.12it/s]\n",
            "                 Class     Images  Instances      Box(P          R      mAP50  mAP50-95): 100%|██████████| 4/4 [00:01<00:00,  2.21it/s]"
          ]
        },
        {
          "output_type": "stream",
          "name": "stdout",
          "text": [
            "                   all         97        208      0.956      0.962      0.948      0.772\n"
          ]
        },
        {
          "output_type": "stream",
          "name": "stderr",
          "text": [
            "\n"
          ]
        },
        {
          "output_type": "stream",
          "name": "stdout",
          "text": [
            "\n",
            "      Epoch    GPU_mem   box_loss   cls_loss   dfl_loss  Instances       Size\n"
          ]
        },
        {
          "output_type": "stream",
          "name": "stderr",
          "text": [
            "     13/100      2.89G     0.6488     0.6627     0.9107         33        640: 100%|██████████| 22/22 [00:06<00:00,  3.44it/s]\n",
            "                 Class     Images  Instances      Box(P          R      mAP50  mAP50-95): 100%|██████████| 4/4 [00:01<00:00,  2.69it/s]"
          ]
        },
        {
          "output_type": "stream",
          "name": "stdout",
          "text": [
            "                   all         97        208      0.951      0.966       0.96      0.776\n"
          ]
        },
        {
          "output_type": "stream",
          "name": "stderr",
          "text": [
            "\n"
          ]
        },
        {
          "output_type": "stream",
          "name": "stdout",
          "text": [
            "\n",
            "      Epoch    GPU_mem   box_loss   cls_loss   dfl_loss  Instances       Size\n"
          ]
        },
        {
          "output_type": "stream",
          "name": "stderr",
          "text": [
            "     14/100       2.9G     0.6368     0.6244     0.9123         16        640: 100%|██████████| 22/22 [00:07<00:00,  2.94it/s]\n",
            "                 Class     Images  Instances      Box(P          R      mAP50  mAP50-95): 100%|██████████| 4/4 [00:01<00:00,  2.81it/s]"
          ]
        },
        {
          "output_type": "stream",
          "name": "stdout",
          "text": [
            "                   all         97        208      0.957      0.965      0.944       0.69\n"
          ]
        },
        {
          "output_type": "stream",
          "name": "stderr",
          "text": [
            "\n"
          ]
        },
        {
          "output_type": "stream",
          "name": "stdout",
          "text": [
            "\n",
            "      Epoch    GPU_mem   box_loss   cls_loss   dfl_loss  Instances       Size\n"
          ]
        },
        {
          "output_type": "stream",
          "name": "stderr",
          "text": [
            "     15/100      2.92G      0.624     0.6014     0.9087         38        640: 100%|██████████| 22/22 [00:07<00:00,  2.86it/s]\n",
            "                 Class     Images  Instances      Box(P          R      mAP50  mAP50-95): 100%|██████████| 4/4 [00:01<00:00,  3.04it/s]"
          ]
        },
        {
          "output_type": "stream",
          "name": "stdout",
          "text": [
            "                   all         97        208      0.959      0.966      0.962      0.791\n"
          ]
        },
        {
          "output_type": "stream",
          "name": "stderr",
          "text": [
            "\n"
          ]
        },
        {
          "output_type": "stream",
          "name": "stdout",
          "text": [
            "\n",
            "      Epoch    GPU_mem   box_loss   cls_loss   dfl_loss  Instances       Size\n"
          ]
        },
        {
          "output_type": "stream",
          "name": "stderr",
          "text": [
            "     16/100      2.93G     0.6003     0.5862     0.8937         38        640: 100%|██████████| 22/22 [00:06<00:00,  3.40it/s]\n",
            "                 Class     Images  Instances      Box(P          R      mAP50  mAP50-95): 100%|██████████| 4/4 [00:01<00:00,  2.77it/s]"
          ]
        },
        {
          "output_type": "stream",
          "name": "stdout",
          "text": [
            "                   all         97        208      0.987      0.962      0.979       0.79\n"
          ]
        },
        {
          "output_type": "stream",
          "name": "stderr",
          "text": [
            "\n"
          ]
        },
        {
          "output_type": "stream",
          "name": "stdout",
          "text": [
            "\n",
            "      Epoch    GPU_mem   box_loss   cls_loss   dfl_loss  Instances       Size\n"
          ]
        },
        {
          "output_type": "stream",
          "name": "stderr",
          "text": [
            "     17/100      2.95G     0.6024     0.5775     0.9018         33        640: 100%|██████████| 22/22 [00:07<00:00,  3.14it/s]\n",
            "                 Class     Images  Instances      Box(P          R      mAP50  mAP50-95): 100%|██████████| 4/4 [00:01<00:00,  3.15it/s]"
          ]
        },
        {
          "output_type": "stream",
          "name": "stdout",
          "text": [
            "                   all         97        208      0.953      0.966      0.965      0.812\n"
          ]
        },
        {
          "output_type": "stream",
          "name": "stderr",
          "text": [
            "\n"
          ]
        },
        {
          "output_type": "stream",
          "name": "stdout",
          "text": [
            "\n",
            "      Epoch    GPU_mem   box_loss   cls_loss   dfl_loss  Instances       Size\n"
          ]
        },
        {
          "output_type": "stream",
          "name": "stderr",
          "text": [
            "     18/100      2.96G     0.6192      0.562     0.9079         24        640: 100%|██████████| 22/22 [00:07<00:00,  2.91it/s]\n",
            "                 Class     Images  Instances      Box(P          R      mAP50  mAP50-95): 100%|██████████| 4/4 [00:01<00:00,  3.45it/s]"
          ]
        },
        {
          "output_type": "stream",
          "name": "stdout",
          "text": [
            "                   all         97        208      0.957      0.966      0.954      0.755\n"
          ]
        },
        {
          "output_type": "stream",
          "name": "stderr",
          "text": [
            "\n"
          ]
        },
        {
          "output_type": "stream",
          "name": "stdout",
          "text": [
            "\n",
            "      Epoch    GPU_mem   box_loss   cls_loss   dfl_loss  Instances       Size\n"
          ]
        },
        {
          "output_type": "stream",
          "name": "stderr",
          "text": [
            "     19/100      2.98G     0.6324     0.5579     0.9071         25        640: 100%|██████████| 22/22 [00:06<00:00,  3.36it/s]\n",
            "                 Class     Images  Instances      Box(P          R      mAP50  mAP50-95): 100%|██████████| 4/4 [00:02<00:00,  1.94it/s]"
          ]
        },
        {
          "output_type": "stream",
          "name": "stdout",
          "text": [
            "                   all         97        208       0.96       0.96      0.981      0.796\n"
          ]
        },
        {
          "output_type": "stream",
          "name": "stderr",
          "text": [
            "\n"
          ]
        },
        {
          "output_type": "stream",
          "name": "stdout",
          "text": [
            "\n",
            "      Epoch    GPU_mem   box_loss   cls_loss   dfl_loss  Instances       Size\n"
          ]
        },
        {
          "output_type": "stream",
          "name": "stderr",
          "text": [
            "     20/100      2.99G     0.6228     0.5441     0.9057         30        640: 100%|██████████| 22/22 [00:06<00:00,  3.39it/s]\n",
            "                 Class     Images  Instances      Box(P          R      mAP50  mAP50-95): 100%|██████████| 4/4 [00:01<00:00,  3.28it/s]"
          ]
        },
        {
          "output_type": "stream",
          "name": "stdout",
          "text": [
            "                   all         97        208      0.918      0.942       0.92      0.744\n"
          ]
        },
        {
          "output_type": "stream",
          "name": "stderr",
          "text": [
            "\n"
          ]
        },
        {
          "output_type": "stream",
          "name": "stdout",
          "text": [
            "\n",
            "      Epoch    GPU_mem   box_loss   cls_loss   dfl_loss  Instances       Size\n"
          ]
        },
        {
          "output_type": "stream",
          "name": "stderr",
          "text": [
            "     21/100      3.01G     0.5709     0.5125     0.8809         34        640: 100%|██████████| 22/22 [00:07<00:00,  2.86it/s]\n",
            "                 Class     Images  Instances      Box(P          R      mAP50  mAP50-95): 100%|██████████| 4/4 [00:01<00:00,  3.48it/s]"
          ]
        },
        {
          "output_type": "stream",
          "name": "stdout",
          "text": [
            "                   all         97        208      0.954      0.999      0.982      0.771\n"
          ]
        },
        {
          "output_type": "stream",
          "name": "stderr",
          "text": [
            "\n"
          ]
        },
        {
          "output_type": "stream",
          "name": "stdout",
          "text": [
            "\n",
            "      Epoch    GPU_mem   box_loss   cls_loss   dfl_loss  Instances       Size\n"
          ]
        },
        {
          "output_type": "stream",
          "name": "stderr",
          "text": [
            "     22/100      3.02G     0.5428     0.4814     0.8809         33        640: 100%|██████████| 22/22 [00:07<00:00,  3.06it/s]\n",
            "                 Class     Images  Instances      Box(P          R      mAP50  mAP50-95): 100%|██████████| 4/4 [00:01<00:00,  2.71it/s]"
          ]
        },
        {
          "output_type": "stream",
          "name": "stdout",
          "text": [
            "                   all         97        208      0.961      0.957      0.962      0.785\n"
          ]
        },
        {
          "output_type": "stream",
          "name": "stderr",
          "text": [
            "\n"
          ]
        },
        {
          "output_type": "stream",
          "name": "stdout",
          "text": [
            "\n",
            "      Epoch    GPU_mem   box_loss   cls_loss   dfl_loss  Instances       Size\n"
          ]
        },
        {
          "output_type": "stream",
          "name": "stderr",
          "text": [
            "     23/100      3.04G     0.5646     0.4943     0.8989         21        640: 100%|██████████| 22/22 [00:06<00:00,  3.32it/s]\n",
            "                 Class     Images  Instances      Box(P          R      mAP50  mAP50-95): 100%|██████████| 4/4 [00:01<00:00,  3.44it/s]"
          ]
        },
        {
          "output_type": "stream",
          "name": "stdout",
          "text": [
            "                   all         97        208      0.956      0.966      0.955       0.76\n"
          ]
        },
        {
          "output_type": "stream",
          "name": "stderr",
          "text": [
            "\n"
          ]
        },
        {
          "output_type": "stream",
          "name": "stdout",
          "text": [
            "\n",
            "      Epoch    GPU_mem   box_loss   cls_loss   dfl_loss  Instances       Size\n"
          ]
        },
        {
          "output_type": "stream",
          "name": "stderr",
          "text": [
            "     24/100      3.05G     0.5643     0.4986     0.9089         24        640: 100%|██████████| 22/22 [00:07<00:00,  2.93it/s]\n",
            "                 Class     Images  Instances      Box(P          R      mAP50  mAP50-95): 100%|██████████| 4/4 [00:01<00:00,  3.47it/s]"
          ]
        },
        {
          "output_type": "stream",
          "name": "stdout",
          "text": [
            "                   all         97        208       0.99      0.961       0.97      0.774\n"
          ]
        },
        {
          "output_type": "stream",
          "name": "stderr",
          "text": [
            "\n"
          ]
        },
        {
          "output_type": "stream",
          "name": "stdout",
          "text": [
            "\n",
            "      Epoch    GPU_mem   box_loss   cls_loss   dfl_loss  Instances       Size\n"
          ]
        },
        {
          "output_type": "stream",
          "name": "stderr",
          "text": [
            "     25/100      3.06G     0.5419     0.4734     0.8767         39        640: 100%|██████████| 22/22 [00:07<00:00,  2.89it/s]\n",
            "                 Class     Images  Instances      Box(P          R      mAP50  mAP50-95): 100%|██████████| 4/4 [00:01<00:00,  3.36it/s]"
          ]
        },
        {
          "output_type": "stream",
          "name": "stdout",
          "text": [
            "                   all         97        208      0.995      0.958      0.965       0.75\n"
          ]
        },
        {
          "output_type": "stream",
          "name": "stderr",
          "text": [
            "\n"
          ]
        },
        {
          "output_type": "stream",
          "name": "stdout",
          "text": [
            "\n",
            "      Epoch    GPU_mem   box_loss   cls_loss   dfl_loss  Instances       Size\n"
          ]
        },
        {
          "output_type": "stream",
          "name": "stderr",
          "text": [
            "     26/100      3.08G     0.5335     0.4501     0.8757         30        640: 100%|██████████| 22/22 [00:06<00:00,  3.37it/s]\n",
            "                 Class     Images  Instances      Box(P          R      mAP50  mAP50-95): 100%|██████████| 4/4 [00:01<00:00,  3.40it/s]"
          ]
        },
        {
          "output_type": "stream",
          "name": "stdout",
          "text": [
            "                   all         97        208      0.959      0.966      0.943      0.752\n"
          ]
        },
        {
          "output_type": "stream",
          "name": "stderr",
          "text": [
            "\n"
          ]
        },
        {
          "output_type": "stream",
          "name": "stdout",
          "text": [
            "\n",
            "      Epoch    GPU_mem   box_loss   cls_loss   dfl_loss  Instances       Size\n"
          ]
        },
        {
          "output_type": "stream",
          "name": "stderr",
          "text": [
            "     27/100      3.09G     0.5147     0.4389     0.8695         45        640: 100%|██████████| 22/22 [00:07<00:00,  3.12it/s]\n",
            "                 Class     Images  Instances      Box(P          R      mAP50  mAP50-95): 100%|██████████| 4/4 [00:01<00:00,  3.14it/s]"
          ]
        },
        {
          "output_type": "stream",
          "name": "stdout",
          "text": [
            "                   all         97        208      0.961      0.966      0.955      0.739\n"
          ]
        },
        {
          "output_type": "stream",
          "name": "stderr",
          "text": [
            "\n"
          ]
        },
        {
          "output_type": "stream",
          "name": "stdout",
          "text": [
            "\n",
            "      Epoch    GPU_mem   box_loss   cls_loss   dfl_loss  Instances       Size\n"
          ]
        },
        {
          "output_type": "stream",
          "name": "stderr",
          "text": [
            "     28/100      3.11G     0.5163     0.4417     0.8672         29        640: 100%|██████████| 22/22 [00:07<00:00,  2.97it/s]\n",
            "                 Class     Images  Instances      Box(P          R      mAP50  mAP50-95): 100%|██████████| 4/4 [00:01<00:00,  2.71it/s]"
          ]
        },
        {
          "output_type": "stream",
          "name": "stdout",
          "text": [
            "                   all         97        208      0.958      0.966      0.951      0.736\n"
          ]
        },
        {
          "output_type": "stream",
          "name": "stderr",
          "text": [
            "\n"
          ]
        },
        {
          "output_type": "stream",
          "name": "stdout",
          "text": [
            "\n",
            "      Epoch    GPU_mem   box_loss   cls_loss   dfl_loss  Instances       Size\n"
          ]
        },
        {
          "output_type": "stream",
          "name": "stderr",
          "text": [
            "     29/100      3.12G      0.521     0.4414     0.8754         30        640: 100%|██████████| 22/22 [00:06<00:00,  3.41it/s]\n",
            "                 Class     Images  Instances      Box(P          R      mAP50  mAP50-95): 100%|██████████| 4/4 [00:01<00:00,  2.39it/s]"
          ]
        },
        {
          "output_type": "stream",
          "name": "stdout",
          "text": [
            "                   all         97        208      0.961      0.966      0.944      0.748\n"
          ]
        },
        {
          "output_type": "stream",
          "name": "stderr",
          "text": [
            "\n"
          ]
        },
        {
          "output_type": "stream",
          "name": "stdout",
          "text": [
            "\n",
            "      Epoch    GPU_mem   box_loss   cls_loss   dfl_loss  Instances       Size\n"
          ]
        },
        {
          "output_type": "stream",
          "name": "stderr",
          "text": [
            "     30/100      3.14G     0.5244     0.4362     0.8677         22        640: 100%|██████████| 22/22 [00:06<00:00,  3.30it/s]\n",
            "                 Class     Images  Instances      Box(P          R      mAP50  mAP50-95): 100%|██████████| 4/4 [00:01<00:00,  3.48it/s]"
          ]
        },
        {
          "output_type": "stream",
          "name": "stdout",
          "text": [
            "                   all         97        208       0.96      0.966      0.942      0.756\n"
          ]
        },
        {
          "output_type": "stream",
          "name": "stderr",
          "text": [
            "\n"
          ]
        },
        {
          "output_type": "stream",
          "name": "stdout",
          "text": [
            "\n",
            "      Epoch    GPU_mem   box_loss   cls_loss   dfl_loss  Instances       Size\n"
          ]
        },
        {
          "output_type": "stream",
          "name": "stderr",
          "text": [
            "     31/100      3.15G     0.4892     0.4152      0.859         21        640: 100%|██████████| 22/22 [00:07<00:00,  2.92it/s]\n",
            "                 Class     Images  Instances      Box(P          R      mAP50  mAP50-95): 100%|██████████| 4/4 [00:01<00:00,  3.34it/s]"
          ]
        },
        {
          "output_type": "stream",
          "name": "stdout",
          "text": [
            "                   all         97        208      0.958      0.966      0.945      0.758\n"
          ]
        },
        {
          "output_type": "stream",
          "name": "stderr",
          "text": [
            "\n"
          ]
        },
        {
          "output_type": "stream",
          "name": "stdout",
          "text": [
            "\n",
            "      Epoch    GPU_mem   box_loss   cls_loss   dfl_loss  Instances       Size\n"
          ]
        },
        {
          "output_type": "stream",
          "name": "stderr",
          "text": [
            "     32/100      3.17G     0.4957     0.4081     0.8732         34        640: 100%|██████████| 22/22 [00:06<00:00,  3.33it/s]\n",
            "                 Class     Images  Instances      Box(P          R      mAP50  mAP50-95): 100%|██████████| 4/4 [00:02<00:00,  1.95it/s]"
          ]
        },
        {
          "output_type": "stream",
          "name": "stdout",
          "text": [
            "                   all         97        208       0.96      0.966      0.956      0.748\n"
          ]
        },
        {
          "output_type": "stream",
          "name": "stderr",
          "text": [
            "\n"
          ]
        },
        {
          "output_type": "stream",
          "name": "stdout",
          "text": [
            "\n",
            "      Epoch    GPU_mem   box_loss   cls_loss   dfl_loss  Instances       Size\n"
          ]
        },
        {
          "output_type": "stream",
          "name": "stderr",
          "text": [
            "     33/100      3.18G     0.4959     0.4084      0.871         40        640: 100%|██████████| 22/22 [00:06<00:00,  3.42it/s]\n",
            "                 Class     Images  Instances      Box(P          R      mAP50  mAP50-95): 100%|██████████| 4/4 [00:01<00:00,  3.03it/s]"
          ]
        },
        {
          "output_type": "stream",
          "name": "stdout",
          "text": [
            "                   all         97        208      0.932      0.966      0.952      0.771\n"
          ]
        },
        {
          "output_type": "stream",
          "name": "stderr",
          "text": [
            "\n"
          ]
        },
        {
          "output_type": "stream",
          "name": "stdout",
          "text": [
            "\n",
            "      Epoch    GPU_mem   box_loss   cls_loss   dfl_loss  Instances       Size\n"
          ]
        },
        {
          "output_type": "stream",
          "name": "stderr",
          "text": [
            "     34/100       3.2G     0.4831     0.3986     0.8615         43        640: 100%|██████████| 22/22 [00:07<00:00,  3.01it/s]\n",
            "                 Class     Images  Instances      Box(P          R      mAP50  mAP50-95): 100%|██████████| 4/4 [00:01<00:00,  2.86it/s]"
          ]
        },
        {
          "output_type": "stream",
          "name": "stdout",
          "text": [
            "                   all         97        208       0.95          1       0.99      0.815\n"
          ]
        },
        {
          "output_type": "stream",
          "name": "stderr",
          "text": [
            "\n"
          ]
        },
        {
          "output_type": "stream",
          "name": "stdout",
          "text": [
            "\n",
            "      Epoch    GPU_mem   box_loss   cls_loss   dfl_loss  Instances       Size\n"
          ]
        },
        {
          "output_type": "stream",
          "name": "stderr",
          "text": [
            "     35/100      3.21G     0.4867     0.3967     0.8653         22        640: 100%|██████████| 22/22 [00:07<00:00,  2.96it/s]\n",
            "                 Class     Images  Instances      Box(P          R      mAP50  mAP50-95): 100%|██████████| 4/4 [00:01<00:00,  3.09it/s]"
          ]
        },
        {
          "output_type": "stream",
          "name": "stdout",
          "text": [
            "                   all         97        208      0.957          1      0.992      0.778\n"
          ]
        },
        {
          "output_type": "stream",
          "name": "stderr",
          "text": [
            "\n"
          ]
        },
        {
          "output_type": "stream",
          "name": "stdout",
          "text": [
            "\n",
            "      Epoch    GPU_mem   box_loss   cls_loss   dfl_loss  Instances       Size\n"
          ]
        },
        {
          "output_type": "stream",
          "name": "stderr",
          "text": [
            "     36/100      3.23G     0.4763     0.3897     0.8646         32        640: 100%|██████████| 22/22 [00:06<00:00,  3.30it/s]\n",
            "                 Class     Images  Instances      Box(P          R      mAP50  mAP50-95): 100%|██████████| 4/4 [00:01<00:00,  3.54it/s]"
          ]
        },
        {
          "output_type": "stream",
          "name": "stdout",
          "text": [
            "                   all         97        208      0.994          1      0.995      0.795\n"
          ]
        },
        {
          "output_type": "stream",
          "name": "stderr",
          "text": [
            "\n"
          ]
        },
        {
          "output_type": "stream",
          "name": "stdout",
          "text": [
            "\n",
            "      Epoch    GPU_mem   box_loss   cls_loss   dfl_loss  Instances       Size\n"
          ]
        },
        {
          "output_type": "stream",
          "name": "stderr",
          "text": [
            "     37/100      3.24G     0.4722     0.3786     0.8594         33        640: 100%|██████████| 22/22 [00:07<00:00,  2.99it/s]\n",
            "                 Class     Images  Instances      Box(P          R      mAP50  mAP50-95): 100%|██████████| 4/4 [00:01<00:00,  3.00it/s]"
          ]
        },
        {
          "output_type": "stream",
          "name": "stdout",
          "text": [
            "                   all         97        208       0.96      0.966      0.973      0.784\n"
          ]
        },
        {
          "output_type": "stream",
          "name": "stderr",
          "text": [
            "\n"
          ]
        },
        {
          "output_type": "stream",
          "name": "stdout",
          "text": [
            "\n",
            "      Epoch    GPU_mem   box_loss   cls_loss   dfl_loss  Instances       Size\n"
          ]
        },
        {
          "output_type": "stream",
          "name": "stderr",
          "text": [
            "     38/100      3.26G     0.4719     0.3866     0.8595         36        640: 100%|██████████| 22/22 [00:07<00:00,  2.90it/s]\n",
            "                 Class     Images  Instances      Box(P          R      mAP50  mAP50-95): 100%|██████████| 4/4 [00:01<00:00,  3.52it/s]"
          ]
        },
        {
          "output_type": "stream",
          "name": "stdout",
          "text": [
            "                   all         97        208      0.966          1      0.995      0.822\n"
          ]
        },
        {
          "output_type": "stream",
          "name": "stderr",
          "text": [
            "\n"
          ]
        },
        {
          "output_type": "stream",
          "name": "stdout",
          "text": [
            "\n",
            "      Epoch    GPU_mem   box_loss   cls_loss   dfl_loss  Instances       Size\n"
          ]
        },
        {
          "output_type": "stream",
          "name": "stderr",
          "text": [
            "     39/100      3.27G     0.4779     0.3873     0.8641         32        640: 100%|██████████| 22/22 [00:06<00:00,  3.35it/s]\n",
            "                 Class     Images  Instances      Box(P          R      mAP50  mAP50-95): 100%|██████████| 4/4 [00:01<00:00,  3.16it/s]"
          ]
        },
        {
          "output_type": "stream",
          "name": "stdout",
          "text": [
            "                   all         97        208      0.991          1      0.995      0.783\n"
          ]
        },
        {
          "output_type": "stream",
          "name": "stderr",
          "text": [
            "\n"
          ]
        },
        {
          "output_type": "stream",
          "name": "stdout",
          "text": [
            "\n",
            "      Epoch    GPU_mem   box_loss   cls_loss   dfl_loss  Instances       Size\n"
          ]
        },
        {
          "output_type": "stream",
          "name": "stderr",
          "text": [
            "     40/100      3.29G     0.4875     0.3809     0.8776         25        640: 100%|██████████| 22/22 [00:07<00:00,  3.05it/s]\n",
            "                 Class     Images  Instances      Box(P          R      mAP50  mAP50-95): 100%|██████████| 4/4 [00:01<00:00,  3.61it/s]"
          ]
        },
        {
          "output_type": "stream",
          "name": "stdout",
          "text": [
            "                   all         97        208      0.962          1      0.984      0.755\n"
          ]
        },
        {
          "output_type": "stream",
          "name": "stderr",
          "text": [
            "\n"
          ]
        },
        {
          "output_type": "stream",
          "name": "stdout",
          "text": [
            "\n",
            "      Epoch    GPU_mem   box_loss   cls_loss   dfl_loss  Instances       Size\n"
          ]
        },
        {
          "output_type": "stream",
          "name": "stderr",
          "text": [
            "     41/100       3.3G     0.4586     0.3762     0.8573         38        640: 100%|██████████| 22/22 [00:07<00:00,  2.91it/s]\n",
            "                 Class     Images  Instances      Box(P          R      mAP50  mAP50-95): 100%|██████████| 4/4 [00:01<00:00,  3.31it/s]"
          ]
        },
        {
          "output_type": "stream",
          "name": "stdout",
          "text": [
            "                   all         97        208      0.992          1      0.995      0.794\n"
          ]
        },
        {
          "output_type": "stream",
          "name": "stderr",
          "text": [
            "\n"
          ]
        },
        {
          "output_type": "stream",
          "name": "stdout",
          "text": [
            "\n",
            "      Epoch    GPU_mem   box_loss   cls_loss   dfl_loss  Instances       Size\n"
          ]
        },
        {
          "output_type": "stream",
          "name": "stderr",
          "text": [
            "     42/100      3.32G     0.4501     0.3658     0.8572         35        640: 100%|██████████| 22/22 [00:06<00:00,  3.27it/s]\n",
            "                 Class     Images  Instances      Box(P          R      mAP50  mAP50-95): 100%|██████████| 4/4 [00:01<00:00,  2.50it/s]"
          ]
        },
        {
          "output_type": "stream",
          "name": "stdout",
          "text": [
            "                   all         97        208       0.94          1      0.986       0.81\n"
          ]
        },
        {
          "output_type": "stream",
          "name": "stderr",
          "text": [
            "\n"
          ]
        },
        {
          "output_type": "stream",
          "name": "stdout",
          "text": [
            "\n",
            "      Epoch    GPU_mem   box_loss   cls_loss   dfl_loss  Instances       Size\n"
          ]
        },
        {
          "output_type": "stream",
          "name": "stderr",
          "text": [
            "     43/100      3.33G     0.4416      0.359     0.8614         27        640: 100%|██████████| 22/22 [00:06<00:00,  3.45it/s]\n",
            "                 Class     Images  Instances      Box(P          R      mAP50  mAP50-95): 100%|██████████| 4/4 [00:01<00:00,  3.51it/s]"
          ]
        },
        {
          "output_type": "stream",
          "name": "stdout",
          "text": [
            "                   all         97        208      0.959          1      0.984      0.793\n"
          ]
        },
        {
          "output_type": "stream",
          "name": "stderr",
          "text": [
            "\n"
          ]
        },
        {
          "output_type": "stream",
          "name": "stdout",
          "text": [
            "\n",
            "      Epoch    GPU_mem   box_loss   cls_loss   dfl_loss  Instances       Size\n"
          ]
        },
        {
          "output_type": "stream",
          "name": "stderr",
          "text": [
            "     44/100      3.35G     0.4413     0.3525     0.8487         44        640: 100%|██████████| 22/22 [00:07<00:00,  2.92it/s]\n",
            "                 Class     Images  Instances      Box(P          R      mAP50  mAP50-95): 100%|██████████| 4/4 [00:01<00:00,  3.58it/s]"
          ]
        },
        {
          "output_type": "stream",
          "name": "stdout",
          "text": [
            "                   all         97        208      0.959      0.966      0.984      0.804\n"
          ]
        },
        {
          "output_type": "stream",
          "name": "stderr",
          "text": [
            "\n"
          ]
        },
        {
          "output_type": "stream",
          "name": "stdout",
          "text": [
            "\n",
            "      Epoch    GPU_mem   box_loss   cls_loss   dfl_loss  Instances       Size\n"
          ]
        },
        {
          "output_type": "stream",
          "name": "stderr",
          "text": [
            "     45/100      3.36G     0.4414     0.3625     0.8618         24        640: 100%|██████████| 22/22 [00:06<00:00,  3.48it/s]\n",
            "                 Class     Images  Instances      Box(P          R      mAP50  mAP50-95): 100%|██████████| 4/4 [00:02<00:00,  1.69it/s]"
          ]
        },
        {
          "output_type": "stream",
          "name": "stdout",
          "text": [
            "                   all         97        208      0.956      0.966      0.958      0.785\n"
          ]
        },
        {
          "output_type": "stream",
          "name": "stderr",
          "text": [
            "\n"
          ]
        },
        {
          "output_type": "stream",
          "name": "stdout",
          "text": [
            "\n",
            "      Epoch    GPU_mem   box_loss   cls_loss   dfl_loss  Instances       Size\n"
          ]
        },
        {
          "output_type": "stream",
          "name": "stderr",
          "text": [
            "     46/100      3.38G     0.4345     0.3488     0.8397         27        640: 100%|██████████| 22/22 [00:06<00:00,  3.37it/s]\n",
            "                 Class     Images  Instances      Box(P          R      mAP50  mAP50-95): 100%|██████████| 4/4 [00:01<00:00,  3.37it/s]"
          ]
        },
        {
          "output_type": "stream",
          "name": "stdout",
          "text": [
            "                   all         97        208       0.96      0.966      0.963      0.774\n"
          ]
        },
        {
          "output_type": "stream",
          "name": "stderr",
          "text": [
            "\n"
          ]
        },
        {
          "output_type": "stream",
          "name": "stdout",
          "text": [
            "\n",
            "      Epoch    GPU_mem   box_loss   cls_loss   dfl_loss  Instances       Size\n"
          ]
        },
        {
          "output_type": "stream",
          "name": "stderr",
          "text": [
            "     47/100      3.39G     0.4293     0.3358     0.8467         44        640: 100%|██████████| 22/22 [00:07<00:00,  3.00it/s]\n",
            "                 Class     Images  Instances      Box(P          R      mAP50  mAP50-95): 100%|██████████| 4/4 [00:01<00:00,  2.92it/s]"
          ]
        },
        {
          "output_type": "stream",
          "name": "stdout",
          "text": [
            "                   all         97        208      0.961      0.966      0.951      0.788\n"
          ]
        },
        {
          "output_type": "stream",
          "name": "stderr",
          "text": [
            "\n"
          ]
        },
        {
          "output_type": "stream",
          "name": "stdout",
          "text": [
            "\n",
            "      Epoch    GPU_mem   box_loss   cls_loss   dfl_loss  Instances       Size\n"
          ]
        },
        {
          "output_type": "stream",
          "name": "stderr",
          "text": [
            "     48/100       3.4G     0.4411     0.3375     0.8446         25        640: 100%|██████████| 22/22 [00:06<00:00,  3.19it/s]\n",
            "                 Class     Images  Instances      Box(P          R      mAP50  mAP50-95): 100%|██████████| 4/4 [00:01<00:00,  2.25it/s]"
          ]
        },
        {
          "output_type": "stream",
          "name": "stdout",
          "text": [
            "                   all         97        208       0.96      0.966      0.967      0.799\n"
          ]
        },
        {
          "output_type": "stream",
          "name": "stderr",
          "text": [
            "\n"
          ]
        },
        {
          "output_type": "stream",
          "name": "stdout",
          "text": [
            "\n",
            "      Epoch    GPU_mem   box_loss   cls_loss   dfl_loss  Instances       Size\n"
          ]
        },
        {
          "output_type": "stream",
          "name": "stderr",
          "text": [
            "     49/100      3.42G     0.4394     0.3435      0.854         45        640: 100%|██████████| 22/22 [00:06<00:00,  3.40it/s]\n",
            "                 Class     Images  Instances      Box(P          R      mAP50  mAP50-95): 100%|██████████| 4/4 [00:01<00:00,  3.33it/s]"
          ]
        },
        {
          "output_type": "stream",
          "name": "stdout",
          "text": [
            "                   all         97        208      0.956          1      0.978        0.8\n"
          ]
        },
        {
          "output_type": "stream",
          "name": "stderr",
          "text": [
            "\n"
          ]
        },
        {
          "output_type": "stream",
          "name": "stdout",
          "text": [
            "\n",
            "      Epoch    GPU_mem   box_loss   cls_loss   dfl_loss  Instances       Size\n"
          ]
        },
        {
          "output_type": "stream",
          "name": "stderr",
          "text": [
            "     50/100      3.44G      0.412     0.3362     0.8492         28        640: 100%|██████████| 22/22 [00:07<00:00,  2.97it/s]\n",
            "                 Class     Images  Instances      Box(P          R      mAP50  mAP50-95): 100%|██████████| 4/4 [00:01<00:00,  3.45it/s]"
          ]
        },
        {
          "output_type": "stream",
          "name": "stdout",
          "text": [
            "                   all         97        208      0.956      0.966      0.976      0.798\n"
          ]
        },
        {
          "output_type": "stream",
          "name": "stderr",
          "text": [
            "\n"
          ]
        },
        {
          "output_type": "stream",
          "name": "stdout",
          "text": [
            "\n",
            "      Epoch    GPU_mem   box_loss   cls_loss   dfl_loss  Instances       Size\n"
          ]
        },
        {
          "output_type": "stream",
          "name": "stderr",
          "text": [
            "     51/100      3.45G     0.4245     0.3406     0.8581         21        640: 100%|██████████| 22/22 [00:07<00:00,  3.02it/s]\n",
            "                 Class     Images  Instances      Box(P          R      mAP50  mAP50-95): 100%|██████████| 4/4 [00:01<00:00,  3.05it/s]"
          ]
        },
        {
          "output_type": "stream",
          "name": "stdout",
          "text": [
            "                   all         97        208      0.904      0.966      0.927      0.781\n"
          ]
        },
        {
          "output_type": "stream",
          "name": "stderr",
          "text": [
            "\n"
          ]
        },
        {
          "output_type": "stream",
          "name": "stdout",
          "text": [
            "\n",
            "      Epoch    GPU_mem   box_loss   cls_loss   dfl_loss  Instances       Size\n"
          ]
        },
        {
          "output_type": "stream",
          "name": "stderr",
          "text": [
            "     52/100      3.46G     0.4247      0.329     0.8462         38        640: 100%|██████████| 22/22 [00:06<00:00,  3.46it/s]\n",
            "                 Class     Images  Instances      Box(P          R      mAP50  mAP50-95): 100%|██████████| 4/4 [00:01<00:00,  3.02it/s]"
          ]
        },
        {
          "output_type": "stream",
          "name": "stdout",
          "text": [
            "                   all         97        208      0.959      0.966      0.972      0.801\n"
          ]
        },
        {
          "output_type": "stream",
          "name": "stderr",
          "text": [
            "\n"
          ]
        },
        {
          "output_type": "stream",
          "name": "stdout",
          "text": [
            "\n",
            "      Epoch    GPU_mem   box_loss   cls_loss   dfl_loss  Instances       Size\n"
          ]
        },
        {
          "output_type": "stream",
          "name": "stderr",
          "text": [
            "     53/100      3.48G     0.4347     0.3308      0.848         43        640: 100%|██████████| 22/22 [00:07<00:00,  2.95it/s]\n",
            "                 Class     Images  Instances      Box(P          R      mAP50  mAP50-95): 100%|██████████| 4/4 [00:01<00:00,  2.78it/s]"
          ]
        },
        {
          "output_type": "stream",
          "name": "stdout",
          "text": [
            "                   all         97        208      0.995      0.992      0.995      0.797\n"
          ]
        },
        {
          "output_type": "stream",
          "name": "stderr",
          "text": [
            "\n"
          ]
        },
        {
          "output_type": "stream",
          "name": "stdout",
          "text": [
            "\n",
            "      Epoch    GPU_mem   box_loss   cls_loss   dfl_loss  Instances       Size\n"
          ]
        },
        {
          "output_type": "stream",
          "name": "stderr",
          "text": [
            "     54/100      3.49G     0.3971      0.318     0.8349         28        640: 100%|██████████| 22/22 [00:07<00:00,  2.91it/s]\n",
            "                 Class     Images  Instances      Box(P          R      mAP50  mAP50-95): 100%|██████████| 4/4 [00:01<00:00,  3.22it/s]"
          ]
        },
        {
          "output_type": "stream",
          "name": "stdout",
          "text": [
            "                   all         97        208      0.969          1      0.986      0.804\n"
          ]
        },
        {
          "output_type": "stream",
          "name": "stderr",
          "text": [
            "\n"
          ]
        },
        {
          "output_type": "stream",
          "name": "stdout",
          "text": [
            "\n",
            "      Epoch    GPU_mem   box_loss   cls_loss   dfl_loss  Instances       Size\n"
          ]
        },
        {
          "output_type": "stream",
          "name": "stderr",
          "text": [
            "     55/100      3.51G     0.3978     0.3186      0.842         23        640: 100%|██████████| 22/22 [00:06<00:00,  3.45it/s]\n",
            "                 Class     Images  Instances      Box(P          R      mAP50  mAP50-95): 100%|██████████| 4/4 [00:01<00:00,  3.28it/s]"
          ]
        },
        {
          "output_type": "stream",
          "name": "stdout",
          "text": [
            "                   all         97        208      0.955          1      0.979      0.801\n"
          ]
        },
        {
          "output_type": "stream",
          "name": "stderr",
          "text": [
            "\n"
          ]
        },
        {
          "output_type": "stream",
          "name": "stdout",
          "text": [
            "\n",
            "      Epoch    GPU_mem   box_loss   cls_loss   dfl_loss  Instances       Size\n"
          ]
        },
        {
          "output_type": "stream",
          "name": "stderr",
          "text": [
            "     56/100      3.52G     0.3939     0.3126     0.8391         29        640: 100%|██████████| 22/22 [00:07<00:00,  2.93it/s]\n",
            "                 Class     Images  Instances      Box(P          R      mAP50  mAP50-95): 100%|██████████| 4/4 [00:01<00:00,  3.38it/s]"
          ]
        },
        {
          "output_type": "stream",
          "name": "stdout",
          "text": [
            "                   all         97        208      0.961      0.966      0.973      0.777\n"
          ]
        },
        {
          "output_type": "stream",
          "name": "stderr",
          "text": [
            "\n"
          ]
        },
        {
          "output_type": "stream",
          "name": "stdout",
          "text": [
            "\n",
            "      Epoch    GPU_mem   box_loss   cls_loss   dfl_loss  Instances       Size\n"
          ]
        },
        {
          "output_type": "stream",
          "name": "stderr",
          "text": [
            "     57/100      3.54G     0.4059     0.3203     0.8376         26        640: 100%|██████████| 22/22 [00:07<00:00,  2.89it/s]\n",
            "                 Class     Images  Instances      Box(P          R      mAP50  mAP50-95): 100%|██████████| 4/4 [00:01<00:00,  3.99it/s]"
          ]
        },
        {
          "output_type": "stream",
          "name": "stdout",
          "text": [
            "                   all         97        208       0.96      0.966      0.975      0.767\n"
          ]
        },
        {
          "output_type": "stream",
          "name": "stderr",
          "text": [
            "\n"
          ]
        },
        {
          "output_type": "stream",
          "name": "stdout",
          "text": [
            "\n",
            "      Epoch    GPU_mem   box_loss   cls_loss   dfl_loss  Instances       Size\n"
          ]
        },
        {
          "output_type": "stream",
          "name": "stderr",
          "text": [
            "     58/100      3.55G      0.399     0.3165     0.8379         36        640: 100%|██████████| 22/22 [00:06<00:00,  3.35it/s]\n",
            "                 Class     Images  Instances      Box(P          R      mAP50  mAP50-95): 100%|██████████| 4/4 [00:02<00:00,  1.81it/s]\n"
          ]
        },
        {
          "output_type": "stream",
          "name": "stdout",
          "text": [
            "                   all         97        208      0.956          1      0.989      0.801\n",
            "\n",
            "      Epoch    GPU_mem   box_loss   cls_loss   dfl_loss  Instances       Size\n"
          ]
        },
        {
          "output_type": "stream",
          "name": "stderr",
          "text": [
            "     59/100      3.57G     0.3928      0.313     0.8452         25        640: 100%|██████████| 22/22 [00:06<00:00,  3.39it/s]\n",
            "                 Class     Images  Instances      Box(P          R      mAP50  mAP50-95): 100%|██████████| 4/4 [00:01<00:00,  3.19it/s]"
          ]
        },
        {
          "output_type": "stream",
          "name": "stdout",
          "text": [
            "                   all         97        208      0.955          1      0.984      0.779\n"
          ]
        },
        {
          "output_type": "stream",
          "name": "stderr",
          "text": [
            "\n"
          ]
        },
        {
          "output_type": "stream",
          "name": "stdout",
          "text": [
            "\n",
            "      Epoch    GPU_mem   box_loss   cls_loss   dfl_loss  Instances       Size\n"
          ]
        },
        {
          "output_type": "stream",
          "name": "stderr",
          "text": [
            "     60/100      3.58G     0.3848     0.3038     0.8381         23        640: 100%|██████████| 22/22 [00:07<00:00,  2.92it/s]\n",
            "                 Class     Images  Instances      Box(P          R      mAP50  mAP50-95): 100%|██████████| 4/4 [00:01<00:00,  3.53it/s]"
          ]
        },
        {
          "output_type": "stream",
          "name": "stdout",
          "text": [
            "                   all         97        208      0.965      0.995      0.994      0.804\n"
          ]
        },
        {
          "output_type": "stream",
          "name": "stderr",
          "text": [
            "\n"
          ]
        },
        {
          "output_type": "stream",
          "name": "stdout",
          "text": [
            "\n",
            "      Epoch    GPU_mem   box_loss   cls_loss   dfl_loss  Instances       Size\n"
          ]
        },
        {
          "output_type": "stream",
          "name": "stderr",
          "text": [
            "     61/100       3.6G     0.3845     0.3069     0.8378         26        640: 100%|██████████| 22/22 [00:07<00:00,  3.14it/s]\n",
            "                 Class     Images  Instances      Box(P          R      mAP50  mAP50-95): 100%|██████████| 4/4 [00:01<00:00,  2.24it/s]"
          ]
        },
        {
          "output_type": "stream",
          "name": "stdout",
          "text": [
            "                   all         97        208      0.961      0.966      0.983      0.801\n"
          ]
        },
        {
          "output_type": "stream",
          "name": "stderr",
          "text": [
            "\n"
          ]
        },
        {
          "output_type": "stream",
          "name": "stdout",
          "text": [
            "\n",
            "      Epoch    GPU_mem   box_loss   cls_loss   dfl_loss  Instances       Size\n"
          ]
        },
        {
          "output_type": "stream",
          "name": "stderr",
          "text": [
            "     62/100      3.61G     0.4004     0.3084     0.8407         27        640: 100%|██████████| 22/22 [00:06<00:00,  3.41it/s]\n",
            "                 Class     Images  Instances      Box(P          R      mAP50  mAP50-95): 100%|██████████| 4/4 [00:01<00:00,  3.40it/s]"
          ]
        },
        {
          "output_type": "stream",
          "name": "stdout",
          "text": [
            "                   all         97        208      0.961      0.966      0.981      0.805\n"
          ]
        },
        {
          "output_type": "stream",
          "name": "stderr",
          "text": [
            "\n"
          ]
        },
        {
          "output_type": "stream",
          "name": "stdout",
          "text": [
            "\n",
            "      Epoch    GPU_mem   box_loss   cls_loss   dfl_loss  Instances       Size\n"
          ]
        },
        {
          "output_type": "stream",
          "name": "stderr",
          "text": [
            "     63/100      3.63G     0.3934     0.3058     0.8464         30        640: 100%|██████████| 22/22 [00:07<00:00,  3.02it/s]\n",
            "                 Class     Images  Instances      Box(P          R      mAP50  mAP50-95): 100%|██████████| 4/4 [00:01<00:00,  3.02it/s]"
          ]
        },
        {
          "output_type": "stream",
          "name": "stdout",
          "text": [
            "                   all         97        208      0.961      0.966      0.981      0.805\n"
          ]
        },
        {
          "output_type": "stream",
          "name": "stderr",
          "text": [
            "\n"
          ]
        },
        {
          "output_type": "stream",
          "name": "stdout",
          "text": [
            "\n",
            "      Epoch    GPU_mem   box_loss   cls_loss   dfl_loss  Instances       Size\n"
          ]
        },
        {
          "output_type": "stream",
          "name": "stderr",
          "text": [
            "     64/100      3.64G     0.3902     0.3008     0.8376         34        640: 100%|██████████| 22/22 [00:07<00:00,  2.95it/s]\n",
            "                 Class     Images  Instances      Box(P          R      mAP50  mAP50-95): 100%|██████████| 4/4 [00:01<00:00,  3.43it/s]"
          ]
        },
        {
          "output_type": "stream",
          "name": "stdout",
          "text": [
            "                   all         97        208       0.95          1      0.979      0.818\n"
          ]
        },
        {
          "output_type": "stream",
          "name": "stderr",
          "text": [
            "\n"
          ]
        },
        {
          "output_type": "stream",
          "name": "stdout",
          "text": [
            "\n",
            "      Epoch    GPU_mem   box_loss   cls_loss   dfl_loss  Instances       Size\n"
          ]
        },
        {
          "output_type": "stream",
          "name": "stderr",
          "text": [
            "     65/100      3.66G      0.367     0.2907     0.8328         29        640: 100%|██████████| 22/22 [00:06<00:00,  3.35it/s]\n",
            "                 Class     Images  Instances      Box(P          R      mAP50  mAP50-95): 100%|██████████| 4/4 [00:01<00:00,  3.83it/s]"
          ]
        },
        {
          "output_type": "stream",
          "name": "stdout",
          "text": [
            "                   all         97        208      0.961      0.966      0.968      0.794\n"
          ]
        },
        {
          "output_type": "stream",
          "name": "stderr",
          "text": [
            "\n"
          ]
        },
        {
          "output_type": "stream",
          "name": "stdout",
          "text": [
            "\n",
            "      Epoch    GPU_mem   box_loss   cls_loss   dfl_loss  Instances       Size\n"
          ]
        },
        {
          "output_type": "stream",
          "name": "stderr",
          "text": [
            "     66/100      3.67G     0.3828     0.3019     0.8413         28        640: 100%|██████████| 22/22 [00:08<00:00,  2.71it/s]\n",
            "                 Class     Images  Instances      Box(P          R      mAP50  mAP50-95): 100%|██████████| 4/4 [00:01<00:00,  3.59it/s]"
          ]
        },
        {
          "output_type": "stream",
          "name": "stdout",
          "text": [
            "                   all         97        208      0.994          1      0.995      0.808\n"
          ]
        },
        {
          "output_type": "stream",
          "name": "stderr",
          "text": [
            "\n"
          ]
        },
        {
          "output_type": "stream",
          "name": "stdout",
          "text": [
            "\n",
            "      Epoch    GPU_mem   box_loss   cls_loss   dfl_loss  Instances       Size\n"
          ]
        },
        {
          "output_type": "stream",
          "name": "stderr",
          "text": [
            "     67/100      3.69G     0.3637     0.2883     0.8318         24        640: 100%|██████████| 22/22 [00:07<00:00,  2.91it/s]\n",
            "                 Class     Images  Instances      Box(P          R      mAP50  mAP50-95): 100%|██████████| 4/4 [00:01<00:00,  3.41it/s]"
          ]
        },
        {
          "output_type": "stream",
          "name": "stdout",
          "text": [
            "                   all         97        208      0.996          1      0.995      0.815\n"
          ]
        },
        {
          "output_type": "stream",
          "name": "stderr",
          "text": [
            "\n"
          ]
        },
        {
          "output_type": "stream",
          "name": "stdout",
          "text": [
            "\n",
            "      Epoch    GPU_mem   box_loss   cls_loss   dfl_loss  Instances       Size\n"
          ]
        },
        {
          "output_type": "stream",
          "name": "stderr",
          "text": [
            "     68/100       3.7G      0.368     0.2942     0.8403         31        640: 100%|██████████| 22/22 [00:06<00:00,  3.27it/s]\n",
            "                 Class     Images  Instances      Box(P          R      mAP50  mAP50-95): 100%|██████████| 4/4 [00:01<00:00,  2.34it/s]"
          ]
        },
        {
          "output_type": "stream",
          "name": "stdout",
          "text": [
            "                   all         97        208      0.992          1      0.995      0.812\n"
          ]
        },
        {
          "output_type": "stream",
          "name": "stderr",
          "text": [
            "\n"
          ]
        },
        {
          "output_type": "stream",
          "name": "stdout",
          "text": [
            "\n",
            "      Epoch    GPU_mem   box_loss   cls_loss   dfl_loss  Instances       Size\n"
          ]
        },
        {
          "output_type": "stream",
          "name": "stderr",
          "text": [
            "     69/100      3.72G     0.3622     0.2902     0.8309         38        640: 100%|██████████| 22/22 [00:06<00:00,  3.29it/s]\n",
            "                 Class     Images  Instances      Box(P          R      mAP50  mAP50-95): 100%|██████████| 4/4 [00:01<00:00,  3.13it/s]"
          ]
        },
        {
          "output_type": "stream",
          "name": "stdout",
          "text": [
            "                   all         97        208      0.996      0.999      0.995      0.804\n"
          ]
        },
        {
          "output_type": "stream",
          "name": "stderr",
          "text": [
            "\n"
          ]
        },
        {
          "output_type": "stream",
          "name": "stdout",
          "text": [
            "\n",
            "      Epoch    GPU_mem   box_loss   cls_loss   dfl_loss  Instances       Size\n"
          ]
        },
        {
          "output_type": "stream",
          "name": "stderr",
          "text": [
            "     70/100      3.73G     0.3605     0.2897       0.83         30        640: 100%|██████████| 22/22 [00:07<00:00,  2.92it/s]\n",
            "                 Class     Images  Instances      Box(P          R      mAP50  mAP50-95): 100%|██████████| 4/4 [00:01<00:00,  2.98it/s]"
          ]
        },
        {
          "output_type": "stream",
          "name": "stdout",
          "text": [
            "                   all         97        208      0.931          1       0.98        0.8\n"
          ]
        },
        {
          "output_type": "stream",
          "name": "stderr",
          "text": [
            "\n"
          ]
        },
        {
          "output_type": "stream",
          "name": "stdout",
          "text": [
            "\n",
            "      Epoch    GPU_mem   box_loss   cls_loss   dfl_loss  Instances       Size\n"
          ]
        },
        {
          "output_type": "stream",
          "name": "stderr",
          "text": [
            "     71/100      3.75G     0.3351      0.276     0.8232         30        640: 100%|██████████| 22/22 [00:06<00:00,  3.20it/s]\n",
            "                 Class     Images  Instances      Box(P          R      mAP50  mAP50-95): 100%|██████████| 4/4 [00:02<00:00,  1.98it/s]"
          ]
        },
        {
          "output_type": "stream",
          "name": "stdout",
          "text": [
            "                   all         97        208      0.996      0.996      0.995      0.806\n"
          ]
        },
        {
          "output_type": "stream",
          "name": "stderr",
          "text": [
            "\n"
          ]
        },
        {
          "output_type": "stream",
          "name": "stdout",
          "text": [
            "\n",
            "      Epoch    GPU_mem   box_loss   cls_loss   dfl_loss  Instances       Size\n"
          ]
        },
        {
          "output_type": "stream",
          "name": "stderr",
          "text": [
            "     72/100      3.76G     0.3619     0.2827     0.8374         30        640: 100%|██████████| 22/22 [00:06<00:00,  3.36it/s]\n",
            "                 Class     Images  Instances      Box(P          R      mAP50  mAP50-95): 100%|██████████| 4/4 [00:01<00:00,  3.28it/s]"
          ]
        },
        {
          "output_type": "stream",
          "name": "stdout",
          "text": [
            "                   all         97        208      0.994          1      0.995      0.803\n"
          ]
        },
        {
          "output_type": "stream",
          "name": "stderr",
          "text": [
            "\n"
          ]
        },
        {
          "output_type": "stream",
          "name": "stdout",
          "text": [
            "\n",
            "      Epoch    GPU_mem   box_loss   cls_loss   dfl_loss  Instances       Size\n"
          ]
        },
        {
          "output_type": "stream",
          "name": "stderr",
          "text": [
            "     73/100      3.78G     0.3375     0.2778     0.8323         38        640: 100%|██████████| 22/22 [00:07<00:00,  2.94it/s]\n",
            "                 Class     Images  Instances      Box(P          R      mAP50  mAP50-95): 100%|██████████| 4/4 [00:01<00:00,  2.84it/s]"
          ]
        },
        {
          "output_type": "stream",
          "name": "stdout",
          "text": [
            "                   all         97        208      0.995          1      0.995      0.806\n"
          ]
        },
        {
          "output_type": "stream",
          "name": "stderr",
          "text": [
            "\n"
          ]
        },
        {
          "output_type": "stream",
          "name": "stdout",
          "text": [
            "\n",
            "      Epoch    GPU_mem   box_loss   cls_loss   dfl_loss  Instances       Size\n"
          ]
        },
        {
          "output_type": "stream",
          "name": "stderr",
          "text": [
            "     74/100      3.79G     0.3505     0.2772     0.8275         32        640: 100%|██████████| 22/22 [00:07<00:00,  2.94it/s]\n",
            "                 Class     Images  Instances      Box(P          R      mAP50  mAP50-95): 100%|██████████| 4/4 [00:01<00:00,  3.21it/s]"
          ]
        },
        {
          "output_type": "stream",
          "name": "stdout",
          "text": [
            "                   all         97        208      0.995          1      0.995      0.818\n"
          ]
        },
        {
          "output_type": "stream",
          "name": "stderr",
          "text": [
            "\n"
          ]
        },
        {
          "output_type": "stream",
          "name": "stdout",
          "text": [
            "\n",
            "      Epoch    GPU_mem   box_loss   cls_loss   dfl_loss  Instances       Size\n"
          ]
        },
        {
          "output_type": "stream",
          "name": "stderr",
          "text": [
            "     75/100       3.8G     0.3597     0.2762     0.8281         33        640: 100%|██████████| 22/22 [00:06<00:00,  3.48it/s]\n",
            "                 Class     Images  Instances      Box(P          R      mAP50  mAP50-95): 100%|██████████| 4/4 [00:01<00:00,  3.00it/s]"
          ]
        },
        {
          "output_type": "stream",
          "name": "stdout",
          "text": [
            "                   all         97        208      0.995          1      0.995      0.828\n"
          ]
        },
        {
          "output_type": "stream",
          "name": "stderr",
          "text": [
            "\n"
          ]
        },
        {
          "output_type": "stream",
          "name": "stdout",
          "text": [
            "\n",
            "      Epoch    GPU_mem   box_loss   cls_loss   dfl_loss  Instances       Size\n"
          ]
        },
        {
          "output_type": "stream",
          "name": "stderr",
          "text": [
            "     76/100      3.82G     0.3392     0.2699     0.8324         31        640: 100%|██████████| 22/22 [00:07<00:00,  3.08it/s]\n",
            "                 Class     Images  Instances      Box(P          R      mAP50  mAP50-95): 100%|██████████| 4/4 [00:01<00:00,  2.98it/s]"
          ]
        },
        {
          "output_type": "stream",
          "name": "stdout",
          "text": [
            "                   all         97        208      0.996          1      0.995      0.813\n"
          ]
        },
        {
          "output_type": "stream",
          "name": "stderr",
          "text": [
            "\n"
          ]
        },
        {
          "output_type": "stream",
          "name": "stdout",
          "text": [
            "\n",
            "      Epoch    GPU_mem   box_loss   cls_loss   dfl_loss  Instances       Size\n"
          ]
        },
        {
          "output_type": "stream",
          "name": "stderr",
          "text": [
            "     77/100      3.83G     0.3632     0.2815     0.8379         24        640: 100%|██████████| 22/22 [00:07<00:00,  2.86it/s]\n",
            "                 Class     Images  Instances      Box(P          R      mAP50  mAP50-95): 100%|██████████| 4/4 [00:01<00:00,  3.25it/s]"
          ]
        },
        {
          "output_type": "stream",
          "name": "stdout",
          "text": [
            "                   all         97        208      0.964          1      0.992      0.807\n"
          ]
        },
        {
          "output_type": "stream",
          "name": "stderr",
          "text": [
            "\n"
          ]
        },
        {
          "output_type": "stream",
          "name": "stdout",
          "text": [
            "\n",
            "      Epoch    GPU_mem   box_loss   cls_loss   dfl_loss  Instances       Size\n"
          ]
        },
        {
          "output_type": "stream",
          "name": "stderr",
          "text": [
            "     78/100      3.85G     0.3477     0.2727     0.8359         33        640: 100%|██████████| 22/22 [00:06<00:00,  3.42it/s]\n",
            "                 Class     Images  Instances      Box(P          R      mAP50  mAP50-95): 100%|██████████| 4/4 [00:01<00:00,  2.67it/s]"
          ]
        },
        {
          "output_type": "stream",
          "name": "stdout",
          "text": [
            "                   all         97        208      0.963          1      0.988       0.78\n"
          ]
        },
        {
          "output_type": "stream",
          "name": "stderr",
          "text": [
            "\n"
          ]
        },
        {
          "output_type": "stream",
          "name": "stdout",
          "text": [
            "\n",
            "      Epoch    GPU_mem   box_loss   cls_loss   dfl_loss  Instances       Size\n"
          ]
        },
        {
          "output_type": "stream",
          "name": "stderr",
          "text": [
            "     79/100      3.86G     0.3366     0.2679     0.8277         38        640: 100%|██████████| 22/22 [00:06<00:00,  3.24it/s]\n",
            "                 Class     Images  Instances      Box(P          R      mAP50  mAP50-95): 100%|██████████| 4/4 [00:01<00:00,  3.16it/s]"
          ]
        },
        {
          "output_type": "stream",
          "name": "stdout",
          "text": [
            "                   all         97        208      0.987          1      0.994        0.8\n"
          ]
        },
        {
          "output_type": "stream",
          "name": "stderr",
          "text": [
            "\n"
          ]
        },
        {
          "output_type": "stream",
          "name": "stdout",
          "text": [
            "\n",
            "      Epoch    GPU_mem   box_loss   cls_loss   dfl_loss  Instances       Size\n"
          ]
        },
        {
          "output_type": "stream",
          "name": "stderr",
          "text": [
            "     80/100      3.88G     0.3448     0.2678     0.8271         27        640: 100%|██████████| 22/22 [00:07<00:00,  2.92it/s]\n",
            "                 Class     Images  Instances      Box(P          R      mAP50  mAP50-95): 100%|██████████| 4/4 [00:01<00:00,  2.85it/s]"
          ]
        },
        {
          "output_type": "stream",
          "name": "stdout",
          "text": [
            "                   all         97        208       0.96      0.966      0.975       0.81\n"
          ]
        },
        {
          "output_type": "stream",
          "name": "stderr",
          "text": [
            "\n"
          ]
        },
        {
          "output_type": "stream",
          "name": "stdout",
          "text": [
            "\n",
            "      Epoch    GPU_mem   box_loss   cls_loss   dfl_loss  Instances       Size\n"
          ]
        },
        {
          "output_type": "stream",
          "name": "stderr",
          "text": [
            "     81/100      3.89G     0.3409     0.2678     0.8302         38        640: 100%|██████████| 22/22 [00:06<00:00,  3.39it/s]\n",
            "                 Class     Images  Instances      Box(P          R      mAP50  mAP50-95): 100%|██████████| 4/4 [00:02<00:00,  1.90it/s]"
          ]
        },
        {
          "output_type": "stream",
          "name": "stdout",
          "text": [
            "                   all         97        208       0.96      0.966      0.974      0.803\n"
          ]
        },
        {
          "output_type": "stream",
          "name": "stderr",
          "text": [
            "\n"
          ]
        },
        {
          "output_type": "stream",
          "name": "stdout",
          "text": [
            "\n",
            "      Epoch    GPU_mem   box_loss   cls_loss   dfl_loss  Instances       Size\n"
          ]
        },
        {
          "output_type": "stream",
          "name": "stderr",
          "text": [
            "     82/100      3.91G     0.3377     0.2637     0.8348         44        640: 100%|██████████| 22/22 [00:06<00:00,  3.35it/s]\n",
            "                 Class     Images  Instances      Box(P          R      mAP50  mAP50-95): 100%|██████████| 4/4 [00:01<00:00,  3.34it/s]"
          ]
        },
        {
          "output_type": "stream",
          "name": "stdout",
          "text": [
            "                   all         97        208      0.953      0.979      0.977      0.789\n"
          ]
        },
        {
          "output_type": "stream",
          "name": "stderr",
          "text": [
            "\n"
          ]
        },
        {
          "output_type": "stream",
          "name": "stdout",
          "text": [
            "\n",
            "      Epoch    GPU_mem   box_loss   cls_loss   dfl_loss  Instances       Size\n"
          ]
        },
        {
          "output_type": "stream",
          "name": "stderr",
          "text": [
            "     83/100      3.92G     0.3249     0.2563     0.8246         29        640: 100%|██████████| 22/22 [00:07<00:00,  2.94it/s]\n",
            "                 Class     Images  Instances      Box(P          R      mAP50  mAP50-95): 100%|██████████| 4/4 [00:01<00:00,  3.14it/s]"
          ]
        },
        {
          "output_type": "stream",
          "name": "stdout",
          "text": [
            "                   all         97        208       0.96          1      0.979      0.798\n"
          ]
        },
        {
          "output_type": "stream",
          "name": "stderr",
          "text": [
            "\n"
          ]
        },
        {
          "output_type": "stream",
          "name": "stdout",
          "text": [
            "\n",
            "      Epoch    GPU_mem   box_loss   cls_loss   dfl_loss  Instances       Size\n"
          ]
        },
        {
          "output_type": "stream",
          "name": "stderr",
          "text": [
            "     84/100      3.94G     0.3441     0.2648     0.8276         36        640: 100%|██████████| 22/22 [00:07<00:00,  3.02it/s]\n",
            "                 Class     Images  Instances      Box(P          R      mAP50  mAP50-95): 100%|██████████| 4/4 [00:01<00:00,  2.60it/s]"
          ]
        },
        {
          "output_type": "stream",
          "name": "stdout",
          "text": [
            "                   all         97        208      0.968          1       0.99      0.807\n"
          ]
        },
        {
          "output_type": "stream",
          "name": "stderr",
          "text": [
            "\n"
          ]
        },
        {
          "output_type": "stream",
          "name": "stdout",
          "text": [
            "\n",
            "      Epoch    GPU_mem   box_loss   cls_loss   dfl_loss  Instances       Size\n"
          ]
        },
        {
          "output_type": "stream",
          "name": "stderr",
          "text": [
            "     85/100      3.95G      0.331     0.2614     0.8288         34        640: 100%|██████████| 22/22 [00:06<00:00,  3.47it/s]\n",
            "                 Class     Images  Instances      Box(P          R      mAP50  mAP50-95): 100%|██████████| 4/4 [00:01<00:00,  3.10it/s]"
          ]
        },
        {
          "output_type": "stream",
          "name": "stdout",
          "text": [
            "                   all         97        208      0.998          1      0.995      0.817\n"
          ]
        },
        {
          "output_type": "stream",
          "name": "stderr",
          "text": [
            "\n"
          ]
        },
        {
          "output_type": "stream",
          "name": "stdout",
          "text": [
            "\n",
            "      Epoch    GPU_mem   box_loss   cls_loss   dfl_loss  Instances       Size\n"
          ]
        },
        {
          "output_type": "stream",
          "name": "stderr",
          "text": [
            "     86/100      3.97G       0.32     0.2568     0.8194         22        640: 100%|██████████| 22/22 [00:07<00:00,  2.89it/s]\n",
            "                 Class     Images  Instances      Box(P          R      mAP50  mAP50-95): 100%|██████████| 4/4 [00:01<00:00,  3.05it/s]"
          ]
        },
        {
          "output_type": "stream",
          "name": "stdout",
          "text": [
            "                   all         97        208      0.963          1      0.993       0.81\n"
          ]
        },
        {
          "output_type": "stream",
          "name": "stderr",
          "text": [
            "\n"
          ]
        },
        {
          "output_type": "stream",
          "name": "stdout",
          "text": [
            "\n",
            "      Epoch    GPU_mem   box_loss   cls_loss   dfl_loss  Instances       Size\n"
          ]
        },
        {
          "output_type": "stream",
          "name": "stderr",
          "text": [
            "     87/100      3.98G      0.327     0.2593     0.8209         37        640: 100%|██████████| 22/22 [00:07<00:00,  2.92it/s]\n",
            "                 Class     Images  Instances      Box(P          R      mAP50  mAP50-95): 100%|██████████| 4/4 [00:01<00:00,  3.07it/s]"
          ]
        },
        {
          "output_type": "stream",
          "name": "stdout",
          "text": [
            "                   all         97        208      0.994          1      0.995      0.809\n"
          ]
        },
        {
          "output_type": "stream",
          "name": "stderr",
          "text": [
            "\n"
          ]
        },
        {
          "output_type": "stream",
          "name": "stdout",
          "text": [
            "\n",
            "      Epoch    GPU_mem   box_loss   cls_loss   dfl_loss  Instances       Size\n"
          ]
        },
        {
          "output_type": "stream",
          "name": "stderr",
          "text": [
            "     88/100         4G     0.3294     0.2562     0.8373         30        640: 100%|██████████| 22/22 [00:06<00:00,  3.53it/s]\n",
            "                 Class     Images  Instances      Box(P          R      mAP50  mAP50-95): 100%|██████████| 4/4 [00:01<00:00,  2.90it/s]"
          ]
        },
        {
          "output_type": "stream",
          "name": "stdout",
          "text": [
            "                   all         97        208      0.995          1      0.995      0.801\n"
          ]
        },
        {
          "output_type": "stream",
          "name": "stderr",
          "text": [
            "\n"
          ]
        },
        {
          "output_type": "stream",
          "name": "stdout",
          "text": [
            "\n",
            "      Epoch    GPU_mem   box_loss   cls_loss   dfl_loss  Instances       Size\n"
          ]
        },
        {
          "output_type": "stream",
          "name": "stderr",
          "text": [
            "     89/100      4.01G     0.3168     0.2519     0.8249         30        640: 100%|██████████| 22/22 [00:07<00:00,  2.90it/s]\n",
            "                 Class     Images  Instances      Box(P          R      mAP50  mAP50-95): 100%|██████████| 4/4 [00:01<00:00,  3.00it/s]"
          ]
        },
        {
          "output_type": "stream",
          "name": "stdout",
          "text": [
            "                   all         97        208       0.93          1      0.975      0.802\n"
          ]
        },
        {
          "output_type": "stream",
          "name": "stderr",
          "text": [
            "\n"
          ]
        },
        {
          "output_type": "stream",
          "name": "stdout",
          "text": [
            "\n",
            "      Epoch    GPU_mem   box_loss   cls_loss   dfl_loss  Instances       Size\n"
          ]
        },
        {
          "output_type": "stream",
          "name": "stderr",
          "text": [
            "     90/100      4.03G     0.3095     0.2466     0.8275         29        640: 100%|██████████| 22/22 [00:07<00:00,  2.89it/s]\n",
            "                 Class     Images  Instances      Box(P          R      mAP50  mAP50-95): 100%|██████████| 4/4 [00:01<00:00,  3.63it/s]"
          ]
        },
        {
          "output_type": "stream",
          "name": "stdout",
          "text": [
            "                   all         97        208      0.939          1      0.975      0.817\n"
          ]
        },
        {
          "output_type": "stream",
          "name": "stderr",
          "text": [
            "\n"
          ]
        },
        {
          "output_type": "stream",
          "name": "stdout",
          "text": [
            "Closing dataloader mosaic\n",
            "\u001b[34m\u001b[1malbumentations: \u001b[0mBlur(p=0.01, blur_limit=(3, 7)), MedianBlur(p=0.01, blur_limit=(3, 7)), ToGray(p=0.01, num_output_channels=3, method='weighted_average'), CLAHE(p=0.01, clip_limit=(1.0, 4.0), tile_grid_size=(8, 8))\n",
            "\n",
            "      Epoch    GPU_mem   box_loss   cls_loss   dfl_loss  Instances       Size\n"
          ]
        },
        {
          "output_type": "stream",
          "name": "stderr",
          "text": [
            "     91/100      4.04G     0.2891     0.2315     0.8185         15        640: 100%|██████████| 22/22 [00:08<00:00,  2.46it/s]\n",
            "                 Class     Images  Instances      Box(P          R      mAP50  mAP50-95): 100%|██████████| 4/4 [00:01<00:00,  2.80it/s]"
          ]
        },
        {
          "output_type": "stream",
          "name": "stdout",
          "text": [
            "                   all         97        208      0.961          1      0.979      0.802\n"
          ]
        },
        {
          "output_type": "stream",
          "name": "stderr",
          "text": [
            "\n"
          ]
        },
        {
          "output_type": "stream",
          "name": "stdout",
          "text": [
            "\n",
            "      Epoch    GPU_mem   box_loss   cls_loss   dfl_loss  Instances       Size\n"
          ]
        },
        {
          "output_type": "stream",
          "name": "stderr",
          "text": [
            "     92/100      4.06G     0.2941     0.2309     0.8086         18        640: 100%|██████████| 22/22 [00:06<00:00,  3.57it/s]\n",
            "                 Class     Images  Instances      Box(P          R      mAP50  mAP50-95): 100%|██████████| 4/4 [00:01<00:00,  2.85it/s]"
          ]
        },
        {
          "output_type": "stream",
          "name": "stdout",
          "text": [
            "                   all         97        208      0.963          1      0.982      0.794\n"
          ]
        },
        {
          "output_type": "stream",
          "name": "stderr",
          "text": [
            "\n"
          ]
        },
        {
          "output_type": "stream",
          "name": "stdout",
          "text": [
            "\n",
            "      Epoch    GPU_mem   box_loss   cls_loss   dfl_loss  Instances       Size\n"
          ]
        },
        {
          "output_type": "stream",
          "name": "stderr",
          "text": [
            "     93/100      4.07G     0.2906     0.2326      0.824         17        640: 100%|██████████| 22/22 [00:07<00:00,  2.97it/s]\n",
            "                 Class     Images  Instances      Box(P          R      mAP50  mAP50-95): 100%|██████████| 4/4 [00:01<00:00,  3.48it/s]"
          ]
        },
        {
          "output_type": "stream",
          "name": "stdout",
          "text": [
            "                   all         97        208      0.995      0.997      0.995      0.794\n"
          ]
        },
        {
          "output_type": "stream",
          "name": "stderr",
          "text": [
            "\n"
          ]
        },
        {
          "output_type": "stream",
          "name": "stdout",
          "text": [
            "\n",
            "      Epoch    GPU_mem   box_loss   cls_loss   dfl_loss  Instances       Size\n"
          ]
        },
        {
          "output_type": "stream",
          "name": "stderr",
          "text": [
            "     94/100      4.09G     0.2795     0.2187     0.8149         19        640: 100%|██████████| 22/22 [00:07<00:00,  3.01it/s]\n",
            "                 Class     Images  Instances      Box(P          R      mAP50  mAP50-95): 100%|██████████| 4/4 [00:01<00:00,  3.64it/s]"
          ]
        },
        {
          "output_type": "stream",
          "name": "stdout",
          "text": [
            "                   all         97        208      0.963          1      0.978      0.805\n"
          ]
        },
        {
          "output_type": "stream",
          "name": "stderr",
          "text": [
            "\n"
          ]
        },
        {
          "output_type": "stream",
          "name": "stdout",
          "text": [
            "\n",
            "      Epoch    GPU_mem   box_loss   cls_loss   dfl_loss  Instances       Size\n"
          ]
        },
        {
          "output_type": "stream",
          "name": "stderr",
          "text": [
            "     95/100       4.1G     0.2792     0.2242     0.8086         16        640: 100%|██████████| 22/22 [00:06<00:00,  3.55it/s]\n",
            "                 Class     Images  Instances      Box(P          R      mAP50  mAP50-95): 100%|██████████| 4/4 [00:01<00:00,  2.88it/s]"
          ]
        },
        {
          "output_type": "stream",
          "name": "stdout",
          "text": [
            "                   all         97        208      0.961      0.966      0.969       0.79\n"
          ]
        },
        {
          "output_type": "stream",
          "name": "stderr",
          "text": [
            "\n"
          ]
        },
        {
          "output_type": "stream",
          "name": "stdout",
          "text": [
            "\n",
            "      Epoch    GPU_mem   box_loss   cls_loss   dfl_loss  Instances       Size\n"
          ]
        },
        {
          "output_type": "stream",
          "name": "stderr",
          "text": [
            "     96/100      4.12G     0.2709     0.2173     0.8136         17        640: 100%|██████████| 22/22 [00:07<00:00,  2.98it/s]\n",
            "                 Class     Images  Instances      Box(P          R      mAP50  mAP50-95): 100%|██████████| 4/4 [00:01<00:00,  3.11it/s]"
          ]
        },
        {
          "output_type": "stream",
          "name": "stdout",
          "text": [
            "                   all         97        208      0.961      0.966      0.953       0.79\n"
          ]
        },
        {
          "output_type": "stream",
          "name": "stderr",
          "text": [
            "\n"
          ]
        },
        {
          "output_type": "stream",
          "name": "stdout",
          "text": [
            "\n",
            "      Epoch    GPU_mem   box_loss   cls_loss   dfl_loss  Instances       Size\n"
          ]
        },
        {
          "output_type": "stream",
          "name": "stderr",
          "text": [
            "     97/100      4.13G     0.2674     0.2161     0.8152         17        640: 100%|██████████| 22/22 [00:06<00:00,  3.21it/s]\n",
            "                 Class     Images  Instances      Box(P          R      mAP50  mAP50-95): 100%|██████████| 4/4 [00:01<00:00,  2.61it/s]"
          ]
        },
        {
          "output_type": "stream",
          "name": "stdout",
          "text": [
            "                   all         97        208      0.961      0.966      0.952      0.788\n"
          ]
        },
        {
          "output_type": "stream",
          "name": "stderr",
          "text": [
            "\n"
          ]
        },
        {
          "output_type": "stream",
          "name": "stdout",
          "text": [
            "\n",
            "      Epoch    GPU_mem   box_loss   cls_loss   dfl_loss  Instances       Size\n"
          ]
        },
        {
          "output_type": "stream",
          "name": "stderr",
          "text": [
            "     98/100      4.14G      0.275     0.2146     0.8055         16        640: 100%|██████████| 22/22 [00:06<00:00,  3.59it/s]\n",
            "                 Class     Images  Instances      Box(P          R      mAP50  mAP50-95): 100%|██████████| 4/4 [00:01<00:00,  3.79it/s]"
          ]
        },
        {
          "output_type": "stream",
          "name": "stdout",
          "text": [
            "                   all         97        208      0.962      0.966      0.966      0.788\n"
          ]
        },
        {
          "output_type": "stream",
          "name": "stderr",
          "text": [
            "\n"
          ]
        },
        {
          "output_type": "stream",
          "name": "stdout",
          "text": [
            "\n",
            "      Epoch    GPU_mem   box_loss   cls_loss   dfl_loss  Instances       Size\n"
          ]
        },
        {
          "output_type": "stream",
          "name": "stderr",
          "text": [
            "     99/100      4.16G      0.282     0.2224     0.8158         14        640: 100%|██████████| 22/22 [00:07<00:00,  2.98it/s]\n",
            "                 Class     Images  Instances      Box(P          R      mAP50  mAP50-95): 100%|██████████| 4/4 [00:01<00:00,  3.42it/s]"
          ]
        },
        {
          "output_type": "stream",
          "name": "stdout",
          "text": [
            "                   all         97        208      0.962      0.966      0.968      0.791\n"
          ]
        },
        {
          "output_type": "stream",
          "name": "stderr",
          "text": [
            "\n"
          ]
        },
        {
          "output_type": "stream",
          "name": "stdout",
          "text": [
            "\n",
            "      Epoch    GPU_mem   box_loss   cls_loss   dfl_loss  Instances       Size\n"
          ]
        },
        {
          "output_type": "stream",
          "name": "stderr",
          "text": [
            "    100/100      4.17G     0.2868     0.2228     0.8141         17        640: 100%|██████████| 22/22 [00:07<00:00,  3.04it/s]\n",
            "                 Class     Images  Instances      Box(P          R      mAP50  mAP50-95): 100%|██████████| 4/4 [00:01<00:00,  3.23it/s]"
          ]
        },
        {
          "output_type": "stream",
          "name": "stdout",
          "text": [
            "                   all         97        208      0.961      0.979      0.972      0.799\n"
          ]
        },
        {
          "output_type": "stream",
          "name": "stderr",
          "text": [
            "\n"
          ]
        },
        {
          "output_type": "stream",
          "name": "stdout",
          "text": [
            "\n",
            "100 epochs completed in 0.253 hours.\n",
            "Optimizer stripped from runs/detect/train3/weights/last.pt, 5.5MB\n",
            "Optimizer stripped from runs/detect/train3/weights/best.pt, 5.5MB\n",
            "\n",
            "Validating runs/detect/train3/weights/best.pt...\n",
            "Ultralytics 8.3.92 🚀 Python-3.11.11 torch-2.6.0+cu124 CUDA:0 (Tesla T4, 15095MiB)\n",
            "YOLO11n summary (fused): 100 layers, 2,582,737 parameters, 0 gradients, 6.3 GFLOPs\n"
          ]
        },
        {
          "output_type": "stream",
          "name": "stderr",
          "text": [
            "                 Class     Images  Instances      Box(P          R      mAP50  mAP50-95): 100%|██████████| 4/4 [00:01<00:00,  2.08it/s]\n"
          ]
        },
        {
          "output_type": "stream",
          "name": "stdout",
          "text": [
            "                   all         97        208      0.995          1      0.995      0.827\n",
            "             signature         82         97      0.999          1      0.995      0.748\n",
            "                 stamp         92         92      0.998          1      0.995      0.838\n",
            "                   esp         19         19      0.988          1      0.995      0.895\n",
            "Speed: 0.4ms preprocess, 3.5ms inference, 0.0ms loss, 3.7ms postprocess per image\n",
            "Results saved to \u001b[1mruns/detect/train3\u001b[0m\n"
          ]
        }
      ]
    },
    {
      "cell_type": "code",
      "source": [
        "Визуальный показ результатов"
      ],
      "metadata": {
        "id": "QA4eMZeW4dga"
      },
      "execution_count": null,
      "outputs": []
    },
    {
      "cell_type": "code",
      "source": [
        "results = model.predict([\"13.png\"])\n",
        "\n",
        "# Process results list\n",
        "for result in results:\n",
        "    boxes = result.boxes  # Boxes object for bounding box outputs\n",
        "    masks = result.masks  # Masks object for segmentation masks outputs\n",
        "    keypoints = result.keypoints  # Keypoints object for pose outputs\n",
        "    probs = result.probs  # Probs object for classification outputs\n",
        "    obb = result.obb  # Oriented boxes object for OBB outputs\n",
        "    result.show()  # display to screen\n",
        "    result.save(filename=\"result.jpg\")  # save to disk"
      ],
      "metadata": {
        "colab": {
          "base_uri": "https://localhost:8080/",
          "height": 584
        },
        "id": "kBKIYuNlILQU",
        "outputId": "14ca8365-4c38-41b3-c874-5cec141669ec"
      },
      "execution_count": null,
      "outputs": [
        {
          "output_type": "stream",
          "name": "stdout",
          "text": [
            "\n",
            "0: 448x640 1 signature, 1 esp, 28.0ms\n",
            "Speed: 11.3ms preprocess, 28.0ms inference, 2.2ms postprocess per image at shape (1, 3, 448, 640)\n"
          ]
        },
        {
          "output_type": "display_data",
          "data": {
            "text/plain": [
              "<PIL.Image.Image image mode=RGB size=765x515>"
            ],
            "image/png": "[encoded data removed]",
            "image/jpeg": "[encoded data removed]"
          },
          "metadata": {}
        }
      ]
    },
    {
      "cell_type": "markdown",
      "source": [
        "Показ результатов без визуала"
      ],
      "metadata": {
        "id": "vONHgMQ74i6I"
      }
    },
    {
      "cell_type": "code",
      "source": [
        "import os\n",
        "\n",
        "from ultralytics import YOLO\n",
        "\n",
        "model = YOLO(\"/content/runs/detect/train3/weights/best.pt\")"
      ],
      "metadata": {
        "id": "raV-xr-99Rlx"
      },
      "execution_count": null,
      "outputs": []
    },
    {
      "cell_type": "code",
      "source": [
        "results = model.predict([\"1.jpg\"])\n",
        "\n",
        "[result.names[cls.item()] for cls in result.boxes.cls.int()]"
      ],
      "metadata": {
        "colab": {
          "base_uri": "https://localhost:8080/",
          "height": 339
        },
        "id": "CdUsuW4BIP8Z",
        "outputId": "ce0115cc-c563-4b85-904a-b0e5248577ea"
      },
      "execution_count": null,
      "outputs": [
        {
          "output_type": "stream",
          "name": "stdout",
          "text": [
            "\n"
          ]
        },
        {
          "output_type": "error",
          "ename": "FileNotFoundError",
          "evalue": "[Errno 2] No such file or directory: '1.jpg'",
          "traceback": [
            "\u001b[0;31m---------------------------------------------------------------------------\u001b[0m",
            "\u001b[0;31mFileNotFoundError\u001b[0m                         Traceback (most recent call last)",
            "\u001b[0;32m<ipython-input-20-9cb6782990d9>\u001b[0m in \u001b[0;36m<cell line: 0>\u001b[0;34m()\u001b[0m\n\u001b[0;32m----> 1\u001b[0;31m \u001b[0mresults\u001b[0m \u001b[0;34m=\u001b[0m \u001b[0mmodel\u001b[0m\u001b[0;34m.\u001b[0m\u001b[0mpredict\u001b[0m\u001b[0;34m(\u001b[0m\u001b[0;34m[\u001b[0m\u001b[0;34m\"1.jpg\"\u001b[0m\u001b[0;34m]\u001b[0m\u001b[0;34m)\u001b[0m\u001b[0;34m\u001b[0m\u001b[0;34m\u001b[0m\u001b[0m\n\u001b[0m\u001b[1;32m      2\u001b[0m \u001b[0;34m\u001b[0m\u001b[0m\n\u001b[1;32m      3\u001b[0m \u001b[0;34m[\u001b[0m\u001b[0mresult\u001b[0m\u001b[0;34m.\u001b[0m\u001b[0mnames\u001b[0m\u001b[0;34m[\u001b[0m\u001b[0mcls\u001b[0m\u001b[0;34m.\u001b[0m\u001b[0mitem\u001b[0m\u001b[0;34m(\u001b[0m\u001b[0;34m)\u001b[0m\u001b[0;34m]\u001b[0m \u001b[0;32mfor\u001b[0m \u001b[0mcls\u001b[0m \u001b[0;32min\u001b[0m \u001b[0mresult\u001b[0m\u001b[0;34m.\u001b[0m\u001b[0mboxes\u001b[0m\u001b[0;34m.\u001b[0m\u001b[0mcls\u001b[0m\u001b[0;34m.\u001b[0m\u001b[0mint\u001b[0m\u001b[0;34m(\u001b[0m\u001b[0;34m)\u001b[0m\u001b[0;34m]\u001b[0m\u001b[0;34m\u001b[0m\u001b[0;34m\u001b[0m\u001b[0m\n",
            "\u001b[0;32m/usr/local/lib/python3.11/dist-packages/ultralytics/engine/model.py\u001b[0m in \u001b[0;36mpredict\u001b[0;34m(self, source, stream, predictor, **kwargs)\u001b[0m\n\u001b[1;32m    548\u001b[0m         \u001b[0;32mif\u001b[0m \u001b[0mprompts\u001b[0m \u001b[0;32mand\u001b[0m \u001b[0mhasattr\u001b[0m\u001b[0;34m(\u001b[0m\u001b[0mself\u001b[0m\u001b[0;34m.\u001b[0m\u001b[0mpredictor\u001b[0m\u001b[0;34m,\u001b[0m \u001b[0;34m\"set_prompts\"\u001b[0m\u001b[0;34m)\u001b[0m\u001b[0;34m:\u001b[0m  \u001b[0;31m# for SAM-type models\u001b[0m\u001b[0;34m\u001b[0m\u001b[0;34m\u001b[0m\u001b[0m\n\u001b[1;32m    549\u001b[0m             \u001b[0mself\u001b[0m\u001b[0;34m.\u001b[0m\u001b[0mpredictor\u001b[0m\u001b[0;34m.\u001b[0m\u001b[0mset_prompts\u001b[0m\u001b[0;34m(\u001b[0m\u001b[0mprompts\u001b[0m\u001b[0;34m)\u001b[0m\u001b[0;34m\u001b[0m\u001b[0;34m\u001b[0m\u001b[0m\n\u001b[0;32m--> 550\u001b[0;31m         \u001b[0;32mreturn\u001b[0m \u001b[0mself\u001b[0m\u001b[0;34m.\u001b[0m\u001b[0mpredictor\u001b[0m\u001b[0;34m.\u001b[0m\u001b[0mpredict_cli\u001b[0m\u001b[0;34m(\u001b[0m\u001b[0msource\u001b[0m\u001b[0;34m=\u001b[0m\u001b[0msource\u001b[0m\u001b[0;34m)\u001b[0m \u001b[0;32mif\u001b[0m \u001b[0mis_cli\u001b[0m \u001b[0;32melse\u001b[0m \u001b[0mself\u001b[0m\u001b[0;34m.\u001b[0m\u001b[0mpredictor\u001b[0m\u001b[0;34m(\u001b[0m\u001b[0msource\u001b[0m\u001b[0;34m=\u001b[0m\u001b[0msource\u001b[0m\u001b[0;34m,\u001b[0m \u001b[0mstream\u001b[0m\u001b[0;34m=\u001b[0m\u001b[0mstream\u001b[0m\u001b[0;34m)\u001b[0m\u001b[0;34m\u001b[0m\u001b[0;34m\u001b[0m\u001b[0m\n\u001b[0m\u001b[1;32m    551\u001b[0m \u001b[0;34m\u001b[0m\u001b[0m\n\u001b[1;32m    552\u001b[0m     def track(\n",
            "\u001b[0;32m/usr/local/lib/python3.11/dist-packages/ultralytics/engine/predictor.py\u001b[0m in \u001b[0;36m__call__\u001b[0;34m(self, source, model, stream, *args, **kwargs)\u001b[0m\n\u001b[1;32m    212\u001b[0m             \u001b[0;32mreturn\u001b[0m \u001b[0mself\u001b[0m\u001b[0;34m.\u001b[0m\u001b[0mstream_inference\u001b[0m\u001b[0;34m(\u001b[0m\u001b[0msource\u001b[0m\u001b[0;34m,\u001b[0m \u001b[0mmodel\u001b[0m\u001b[0;34m,\u001b[0m \u001b[0;34m*\u001b[0m\u001b[0margs\u001b[0m\u001b[0;34m,\u001b[0m \u001b[0;34m**\u001b[0m\u001b[0mkwargs\u001b[0m\u001b[0;34m)\u001b[0m\u001b[0;34m\u001b[0m\u001b[0;34m\u001b[0m\u001b[0m\n\u001b[1;32m    213\u001b[0m         \u001b[0;32melse\u001b[0m\u001b[0;34m:\u001b[0m\u001b[0;34m\u001b[0m\u001b[0;34m\u001b[0m\u001b[0m\n\u001b[0;32m--> 214\u001b[0;31m             \u001b[0;32mreturn\u001b[0m \u001b[0mlist\u001b[0m\u001b[0;34m(\u001b[0m\u001b[0mself\u001b[0m\u001b[0;34m.\u001b[0m\u001b[0mstream_inference\u001b[0m\u001b[0;34m(\u001b[0m\u001b[0msource\u001b[0m\u001b[0;34m,\u001b[0m \u001b[0mmodel\u001b[0m\u001b[0;34m,\u001b[0m \u001b[0;34m*\u001b[0m\u001b[0margs\u001b[0m\u001b[0;34m,\u001b[0m \u001b[0;34m**\u001b[0m\u001b[0mkwargs\u001b[0m\u001b[0;34m)\u001b[0m\u001b[0;34m)\u001b[0m  \u001b[0;31m# merge list of Result into one\u001b[0m\u001b[0;34m\u001b[0m\u001b[0;34m\u001b[0m\u001b[0m\n\u001b[0m\u001b[1;32m    215\u001b[0m \u001b[0;34m\u001b[0m\u001b[0m\n\u001b[1;32m    216\u001b[0m     \u001b[0;32mdef\u001b[0m \u001b[0mpredict_cli\u001b[0m\u001b[0;34m(\u001b[0m\u001b[0mself\u001b[0m\u001b[0;34m,\u001b[0m \u001b[0msource\u001b[0m\u001b[0;34m=\u001b[0m\u001b[0;32mNone\u001b[0m\u001b[0;34m,\u001b[0m \u001b[0mmodel\u001b[0m\u001b[0;34m=\u001b[0m\u001b[0;32mNone\u001b[0m\u001b[0;34m)\u001b[0m\u001b[0;34m:\u001b[0m\u001b[0;34m\u001b[0m\u001b[0;34m\u001b[0m\u001b[0m\n",
            "\u001b[0;32m/usr/local/lib/python3.11/dist-packages/torch/utils/_contextlib.py\u001b[0m in \u001b[0;36mgenerator_context\u001b[0;34m(*args, **kwargs)\u001b[0m\n\u001b[1;32m     34\u001b[0m             \u001b[0;31m# Issuing `None` to a generator fires it up\u001b[0m\u001b[0;34m\u001b[0m\u001b[0;34m\u001b[0m\u001b[0m\n\u001b[1;32m     35\u001b[0m             \u001b[0;32mwith\u001b[0m \u001b[0mctx_factory\u001b[0m\u001b[0;34m(\u001b[0m\u001b[0;34m)\u001b[0m\u001b[0;34m:\u001b[0m\u001b[0;34m\u001b[0m\u001b[0;34m\u001b[0m\u001b[0m\n\u001b[0;32m---> 36\u001b[0;31m                 \u001b[0mresponse\u001b[0m \u001b[0;34m=\u001b[0m \u001b[0mgen\u001b[0m\u001b[0;34m.\u001b[0m\u001b[0msend\u001b[0m\u001b[0;34m(\u001b[0m\u001b[0;32mNone\u001b[0m\u001b[0;34m)\u001b[0m\u001b[0;34m\u001b[0m\u001b[0;34m\u001b[0m\u001b[0m\n\u001b[0m\u001b[1;32m     37\u001b[0m \u001b[0;34m\u001b[0m\u001b[0m\n\u001b[1;32m     38\u001b[0m             \u001b[0;32mwhile\u001b[0m \u001b[0;32mTrue\u001b[0m\u001b[0;34m:\u001b[0m\u001b[0;34m\u001b[0m\u001b[0;34m\u001b[0m\u001b[0m\n",
            "\u001b[0;32m/usr/local/lib/python3.11/dist-packages/ultralytics/engine/predictor.py\u001b[0m in \u001b[0;36mstream_inference\u001b[0;34m(self, source, model, *args, **kwargs)\u001b[0m\n\u001b[1;32m    293\u001b[0m         \u001b[0;32mwith\u001b[0m \u001b[0mself\u001b[0m\u001b[0;34m.\u001b[0m\u001b[0m_lock\u001b[0m\u001b[0;34m:\u001b[0m  \u001b[0;31m# for thread-safe inference\u001b[0m\u001b[0;34m\u001b[0m\u001b[0;34m\u001b[0m\u001b[0m\n\u001b[1;32m    294\u001b[0m             \u001b[0;31m# Setup source every time predict is called\u001b[0m\u001b[0;34m\u001b[0m\u001b[0;34m\u001b[0m\u001b[0m\n\u001b[0;32m--> 295\u001b[0;31m             \u001b[0mself\u001b[0m\u001b[0;34m.\u001b[0m\u001b[0msetup_source\u001b[0m\u001b[0;34m(\u001b[0m\u001b[0msource\u001b[0m \u001b[0;32mif\u001b[0m \u001b[0msource\u001b[0m \u001b[0;32mis\u001b[0m \u001b[0;32mnot\u001b[0m \u001b[0;32mNone\u001b[0m \u001b[0;32melse\u001b[0m \u001b[0mself\u001b[0m\u001b[0;34m.\u001b[0m\u001b[0margs\u001b[0m\u001b[0;34m.\u001b[0m\u001b[0msource\u001b[0m\u001b[0;34m)\u001b[0m\u001b[0;34m\u001b[0m\u001b[0;34m\u001b[0m\u001b[0m\n\u001b[0m\u001b[1;32m    296\u001b[0m \u001b[0;34m\u001b[0m\u001b[0m\n\u001b[1;32m    297\u001b[0m             \u001b[0;31m# Check if save_dir/ label file exists\u001b[0m\u001b[0;34m\u001b[0m\u001b[0;34m\u001b[0m\u001b[0m\n",
            "\u001b[0;32m/usr/local/lib/python3.11/dist-packages/ultralytics/engine/predictor.py\u001b[0m in \u001b[0;36msetup_source\u001b[0;34m(self, source)\u001b[0m\n\u001b[1;32m    253\u001b[0m             \u001b[0;32melse\u001b[0m \u001b[0;32mNone\u001b[0m\u001b[0;34m\u001b[0m\u001b[0;34m\u001b[0m\u001b[0m\n\u001b[1;32m    254\u001b[0m         )\n\u001b[0;32m--> 255\u001b[0;31m         self.dataset = load_inference_source(\n\u001b[0m\u001b[1;32m    256\u001b[0m             \u001b[0msource\u001b[0m\u001b[0;34m=\u001b[0m\u001b[0msource\u001b[0m\u001b[0;34m,\u001b[0m\u001b[0;34m\u001b[0m\u001b[0;34m\u001b[0m\u001b[0m\n\u001b[1;32m    257\u001b[0m             \u001b[0mbatch\u001b[0m\u001b[0;34m=\u001b[0m\u001b[0mself\u001b[0m\u001b[0;34m.\u001b[0m\u001b[0margs\u001b[0m\u001b[0;34m.\u001b[0m\u001b[0mbatch\u001b[0m\u001b[0;34m,\u001b[0m\u001b[0;34m\u001b[0m\u001b[0;34m\u001b[0m\u001b[0m\n",
            "\u001b[0;32m/usr/local/lib/python3.11/dist-packages/ultralytics/data/build.py\u001b[0m in \u001b[0;36mload_inference_source\u001b[0;34m(source, batch, vid_stride, buffer)\u001b[0m\n\u001b[1;32m    236\u001b[0m         \u001b[0;34m(\u001b[0m\u001b[0mDataset\u001b[0m\u001b[0;34m)\u001b[0m\u001b[0;34m:\u001b[0m \u001b[0mA\u001b[0m \u001b[0mdataset\u001b[0m \u001b[0mobject\u001b[0m \u001b[0;32mfor\u001b[0m \u001b[0mthe\u001b[0m \u001b[0mspecified\u001b[0m \u001b[0minput\u001b[0m \u001b[0msource\u001b[0m \u001b[0;32mwith\u001b[0m \u001b[0mattached\u001b[0m \u001b[0msource_type\u001b[0m \u001b[0mattribute\u001b[0m\u001b[0;34m.\u001b[0m\u001b[0;34m\u001b[0m\u001b[0;34m\u001b[0m\u001b[0m\n\u001b[1;32m    237\u001b[0m     \"\"\"\n\u001b[0;32m--> 238\u001b[0;31m     \u001b[0msource\u001b[0m\u001b[0;34m,\u001b[0m \u001b[0mstream\u001b[0m\u001b[0;34m,\u001b[0m \u001b[0mscreenshot\u001b[0m\u001b[0;34m,\u001b[0m \u001b[0mfrom_img\u001b[0m\u001b[0;34m,\u001b[0m \u001b[0min_memory\u001b[0m\u001b[0;34m,\u001b[0m \u001b[0mtensor\u001b[0m \u001b[0;34m=\u001b[0m \u001b[0mcheck_source\u001b[0m\u001b[0;34m(\u001b[0m\u001b[0msource\u001b[0m\u001b[0;34m)\u001b[0m\u001b[0;34m\u001b[0m\u001b[0;34m\u001b[0m\u001b[0m\n\u001b[0m\u001b[1;32m    239\u001b[0m     \u001b[0msource_type\u001b[0m \u001b[0;34m=\u001b[0m \u001b[0msource\u001b[0m\u001b[0;34m.\u001b[0m\u001b[0msource_type\u001b[0m \u001b[0;32mif\u001b[0m \u001b[0min_memory\u001b[0m \u001b[0;32melse\u001b[0m \u001b[0mSourceTypes\u001b[0m\u001b[0;34m(\u001b[0m\u001b[0mstream\u001b[0m\u001b[0;34m,\u001b[0m \u001b[0mscreenshot\u001b[0m\u001b[0;34m,\u001b[0m \u001b[0mfrom_img\u001b[0m\u001b[0;34m,\u001b[0m \u001b[0mtensor\u001b[0m\u001b[0;34m)\u001b[0m\u001b[0;34m\u001b[0m\u001b[0;34m\u001b[0m\u001b[0m\n\u001b[1;32m    240\u001b[0m \u001b[0;34m\u001b[0m\u001b[0m\n",
            "\u001b[0;32m/usr/local/lib/python3.11/dist-packages/ultralytics/data/build.py\u001b[0m in \u001b[0;36mcheck_source\u001b[0;34m(source)\u001b[0m\n\u001b[1;32m    211\u001b[0m         \u001b[0min_memory\u001b[0m \u001b[0;34m=\u001b[0m \u001b[0;32mTrue\u001b[0m\u001b[0;34m\u001b[0m\u001b[0;34m\u001b[0m\u001b[0m\n\u001b[1;32m    212\u001b[0m     \u001b[0;32melif\u001b[0m \u001b[0misinstance\u001b[0m\u001b[0;34m(\u001b[0m\u001b[0msource\u001b[0m\u001b[0;34m,\u001b[0m \u001b[0;34m(\u001b[0m\u001b[0mlist\u001b[0m\u001b[0;34m,\u001b[0m \u001b[0mtuple\u001b[0m\u001b[0;34m)\u001b[0m\u001b[0;34m)\u001b[0m\u001b[0;34m:\u001b[0m\u001b[0;34m\u001b[0m\u001b[0;34m\u001b[0m\u001b[0m\n\u001b[0;32m--> 213\u001b[0;31m         \u001b[0msource\u001b[0m \u001b[0;34m=\u001b[0m \u001b[0mautocast_list\u001b[0m\u001b[0;34m(\u001b[0m\u001b[0msource\u001b[0m\u001b[0;34m)\u001b[0m  \u001b[0;31m# convert all list elements to PIL or np arrays\u001b[0m\u001b[0;34m\u001b[0m\u001b[0;34m\u001b[0m\u001b[0m\n\u001b[0m\u001b[1;32m    214\u001b[0m         \u001b[0mfrom_img\u001b[0m \u001b[0;34m=\u001b[0m \u001b[0;32mTrue\u001b[0m\u001b[0;34m\u001b[0m\u001b[0;34m\u001b[0m\u001b[0m\n\u001b[1;32m    215\u001b[0m     \u001b[0;32melif\u001b[0m \u001b[0misinstance\u001b[0m\u001b[0;34m(\u001b[0m\u001b[0msource\u001b[0m\u001b[0;34m,\u001b[0m \u001b[0;34m(\u001b[0m\u001b[0mImage\u001b[0m\u001b[0;34m.\u001b[0m\u001b[0mImage\u001b[0m\u001b[0;34m,\u001b[0m \u001b[0mnp\u001b[0m\u001b[0;34m.\u001b[0m\u001b[0mndarray\u001b[0m\u001b[0;34m)\u001b[0m\u001b[0;34m)\u001b[0m\u001b[0;34m:\u001b[0m\u001b[0;34m\u001b[0m\u001b[0;34m\u001b[0m\u001b[0m\n",
            "\u001b[0;32m/usr/local/lib/python3.11/dist-packages/ultralytics/data/loaders.py\u001b[0m in \u001b[0;36mautocast_list\u001b[0;34m(source)\u001b[0m\n\u001b[1;32m    591\u001b[0m     \u001b[0;32mfor\u001b[0m \u001b[0mim\u001b[0m \u001b[0;32min\u001b[0m \u001b[0msource\u001b[0m\u001b[0;34m:\u001b[0m\u001b[0;34m\u001b[0m\u001b[0;34m\u001b[0m\u001b[0m\n\u001b[1;32m    592\u001b[0m         \u001b[0;32mif\u001b[0m \u001b[0misinstance\u001b[0m\u001b[0;34m(\u001b[0m\u001b[0mim\u001b[0m\u001b[0;34m,\u001b[0m \u001b[0;34m(\u001b[0m\u001b[0mstr\u001b[0m\u001b[0;34m,\u001b[0m \u001b[0mPath\u001b[0m\u001b[0;34m)\u001b[0m\u001b[0;34m)\u001b[0m\u001b[0;34m:\u001b[0m  \u001b[0;31m# filename or uri\u001b[0m\u001b[0;34m\u001b[0m\u001b[0;34m\u001b[0m\u001b[0m\n\u001b[0;32m--> 593\u001b[0;31m             \u001b[0mfiles\u001b[0m\u001b[0;34m.\u001b[0m\u001b[0mappend\u001b[0m\u001b[0;34m(\u001b[0m\u001b[0mImage\u001b[0m\u001b[0;34m.\u001b[0m\u001b[0mopen\u001b[0m\u001b[0;34m(\u001b[0m\u001b[0mrequests\u001b[0m\u001b[0;34m.\u001b[0m\u001b[0mget\u001b[0m\u001b[0;34m(\u001b[0m\u001b[0mim\u001b[0m\u001b[0;34m,\u001b[0m \u001b[0mstream\u001b[0m\u001b[0;34m=\u001b[0m\u001b[0;32mTrue\u001b[0m\u001b[0;34m)\u001b[0m\u001b[0;34m.\u001b[0m\u001b[0mraw\u001b[0m \u001b[0;32mif\u001b[0m \u001b[0mstr\u001b[0m\u001b[0;34m(\u001b[0m\u001b[0mim\u001b[0m\u001b[0;34m)\u001b[0m\u001b[0;34m.\u001b[0m\u001b[0mstartswith\u001b[0m\u001b[0;34m(\u001b[0m\u001b[0;34m\"http\"\u001b[0m\u001b[0;34m)\u001b[0m \u001b[0;32melse\u001b[0m \u001b[0mim\u001b[0m\u001b[0;34m)\u001b[0m\u001b[0;34m)\u001b[0m\u001b[0;34m\u001b[0m\u001b[0;34m\u001b[0m\u001b[0m\n\u001b[0m\u001b[1;32m    594\u001b[0m         \u001b[0;32melif\u001b[0m \u001b[0misinstance\u001b[0m\u001b[0;34m(\u001b[0m\u001b[0mim\u001b[0m\u001b[0;34m,\u001b[0m \u001b[0;34m(\u001b[0m\u001b[0mImage\u001b[0m\u001b[0;34m.\u001b[0m\u001b[0mImage\u001b[0m\u001b[0;34m,\u001b[0m \u001b[0mnp\u001b[0m\u001b[0;34m.\u001b[0m\u001b[0mndarray\u001b[0m\u001b[0;34m)\u001b[0m\u001b[0;34m)\u001b[0m\u001b[0;34m:\u001b[0m  \u001b[0;31m# PIL or np Image\u001b[0m\u001b[0;34m\u001b[0m\u001b[0;34m\u001b[0m\u001b[0m\n\u001b[1;32m    595\u001b[0m             \u001b[0mfiles\u001b[0m\u001b[0;34m.\u001b[0m\u001b[0mappend\u001b[0m\u001b[0;34m(\u001b[0m\u001b[0mim\u001b[0m\u001b[0;34m)\u001b[0m\u001b[0;34m\u001b[0m\u001b[0;34m\u001b[0m\u001b[0m\n",
            "\u001b[0;32m/usr/local/lib/python3.11/dist-packages/PIL/Image.py\u001b[0m in \u001b[0;36mopen\u001b[0;34m(fp, mode, formats)\u001b[0m\n\u001b[1;32m   3463\u001b[0m \u001b[0;34m\u001b[0m\u001b[0m\n\u001b[1;32m   3464\u001b[0m     \u001b[0;32mif\u001b[0m \u001b[0mfilename\u001b[0m\u001b[0;34m:\u001b[0m\u001b[0;34m\u001b[0m\u001b[0;34m\u001b[0m\u001b[0m\n\u001b[0;32m-> 3465\u001b[0;31m         \u001b[0mfp\u001b[0m \u001b[0;34m=\u001b[0m \u001b[0mbuiltins\u001b[0m\u001b[0;34m.\u001b[0m\u001b[0mopen\u001b[0m\u001b[0;34m(\u001b[0m\u001b[0mfilename\u001b[0m\u001b[0;34m,\u001b[0m \u001b[0;34m\"rb\"\u001b[0m\u001b[0;34m)\u001b[0m\u001b[0;34m\u001b[0m\u001b[0;34m\u001b[0m\u001b[0m\n\u001b[0m\u001b[1;32m   3466\u001b[0m         \u001b[0mexclusive_fp\u001b[0m \u001b[0;34m=\u001b[0m \u001b[0;32mTrue\u001b[0m\u001b[0;34m\u001b[0m\u001b[0;34m\u001b[0m\u001b[0m\n\u001b[1;32m   3467\u001b[0m     \u001b[0;32melse\u001b[0m\u001b[0;34m:\u001b[0m\u001b[0;34m\u001b[0m\u001b[0;34m\u001b[0m\u001b[0m\n",
            "\u001b[0;31mFileNotFoundError\u001b[0m: [Errno 2] No such file or directory: '1.jpg'"
          ]
        }
      ]
    }
  ]
}